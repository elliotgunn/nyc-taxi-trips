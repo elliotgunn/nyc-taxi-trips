{
 "cells": [
  {
   "cell_type": "code",
   "execution_count": 223,
   "metadata": {},
   "outputs": [],
   "source": [
    "from os import listdir\n",
    "import pandas as pd\n",
    "import numpy as np\n",
    "\n",
    "import matplotlib.pyplot as plt\n",
    "%matplotlib inline"
   ]
  },
  {
   "cell_type": "code",
   "execution_count": 224,
   "metadata": {},
   "outputs": [],
   "source": [
    "# data_folder\n",
    "data_folder = '../data'"
   ]
  },
  {
   "cell_type": "code",
   "execution_count": 225,
   "metadata": {},
   "outputs": [],
   "source": [
    "def merge_data(folder):\n",
    "    \"\"\"\n",
    "    \n",
    "    \"\"\"\n",
    "    \n",
    "    # create empty dataframe\n",
    "    df = pd.DataFrame()\n",
    "    \n",
    "    # get list of csvs\n",
    "    file_paths = [file for file in listdir(folder)]\n",
    "    \n",
    "    for csv in file_paths:\n",
    "        data = pd.read_csv(csv)       \n",
    "        df = df.append(data)\n",
    "    \n",
    "    return df\n",
    "\n",
    "# df = merge_data(data_folder)"
   ]
  },
  {
   "cell_type": "code",
   "execution_count": 226,
   "metadata": {},
   "outputs": [
    {
     "name": "stdout",
     "output_type": "stream",
     "text": [
      "(29236424, 17)\n"
     ]
    },
    {
     "data": {
      "text/html": [
       "<div>\n",
       "<style scoped>\n",
       "    .dataframe tbody tr th:only-of-type {\n",
       "        vertical-align: middle;\n",
       "    }\n",
       "\n",
       "    .dataframe tbody tr th {\n",
       "        vertical-align: top;\n",
       "    }\n",
       "\n",
       "    .dataframe thead th {\n",
       "        text-align: right;\n",
       "    }\n",
       "</style>\n",
       "<table border=\"1\" class=\"dataframe\">\n",
       "  <thead>\n",
       "    <tr style=\"text-align: right;\">\n",
       "      <th></th>\n",
       "      <th>VendorID</th>\n",
       "      <th>tpep_pickup_datetime</th>\n",
       "      <th>tpep_dropoff_datetime</th>\n",
       "      <th>passenger_count</th>\n",
       "      <th>trip_distance</th>\n",
       "      <th>RatecodeID</th>\n",
       "      <th>store_and_fwd_flag</th>\n",
       "      <th>PULocationID</th>\n",
       "      <th>DOLocationID</th>\n",
       "      <th>payment_type</th>\n",
       "      <th>fare_amount</th>\n",
       "      <th>extra</th>\n",
       "      <th>mta_tax</th>\n",
       "      <th>tip_amount</th>\n",
       "      <th>tolls_amount</th>\n",
       "      <th>improvement_surcharge</th>\n",
       "      <th>total_amount</th>\n",
       "    </tr>\n",
       "  </thead>\n",
       "  <tbody>\n",
       "    <tr>\n",
       "      <th>0</th>\n",
       "      <td>2</td>\n",
       "      <td>2017-03-09 21:30:11</td>\n",
       "      <td>2017-03-09 21:44:20</td>\n",
       "      <td>1</td>\n",
       "      <td>4.06</td>\n",
       "      <td>1</td>\n",
       "      <td>N</td>\n",
       "      <td>148</td>\n",
       "      <td>48</td>\n",
       "      <td>1</td>\n",
       "      <td>14.0</td>\n",
       "      <td>0.5</td>\n",
       "      <td>0.5</td>\n",
       "      <td>3.06</td>\n",
       "      <td>0.0</td>\n",
       "      <td>0.3</td>\n",
       "      <td>18.36</td>\n",
       "    </tr>\n",
       "    <tr>\n",
       "      <th>1</th>\n",
       "      <td>2</td>\n",
       "      <td>2017-03-09 21:47:00</td>\n",
       "      <td>2017-03-09 21:58:01</td>\n",
       "      <td>1</td>\n",
       "      <td>2.73</td>\n",
       "      <td>1</td>\n",
       "      <td>N</td>\n",
       "      <td>48</td>\n",
       "      <td>107</td>\n",
       "      <td>2</td>\n",
       "      <td>11.5</td>\n",
       "      <td>0.5</td>\n",
       "      <td>0.5</td>\n",
       "      <td>0.00</td>\n",
       "      <td>0.0</td>\n",
       "      <td>0.3</td>\n",
       "      <td>12.80</td>\n",
       "    </tr>\n",
       "    <tr>\n",
       "      <th>2</th>\n",
       "      <td>2</td>\n",
       "      <td>2017-03-09 22:01:08</td>\n",
       "      <td>2017-03-09 22:11:16</td>\n",
       "      <td>1</td>\n",
       "      <td>2.27</td>\n",
       "      <td>1</td>\n",
       "      <td>N</td>\n",
       "      <td>79</td>\n",
       "      <td>162</td>\n",
       "      <td>1</td>\n",
       "      <td>10.0</td>\n",
       "      <td>0.5</td>\n",
       "      <td>0.5</td>\n",
       "      <td>2.82</td>\n",
       "      <td>0.0</td>\n",
       "      <td>0.3</td>\n",
       "      <td>14.12</td>\n",
       "    </tr>\n",
       "    <tr>\n",
       "      <th>3</th>\n",
       "      <td>2</td>\n",
       "      <td>2017-03-09 22:16:05</td>\n",
       "      <td>2017-03-10 06:26:11</td>\n",
       "      <td>1</td>\n",
       "      <td>3.86</td>\n",
       "      <td>1</td>\n",
       "      <td>N</td>\n",
       "      <td>237</td>\n",
       "      <td>41</td>\n",
       "      <td>1</td>\n",
       "      <td>12.0</td>\n",
       "      <td>0.5</td>\n",
       "      <td>0.5</td>\n",
       "      <td>3.99</td>\n",
       "      <td>0.0</td>\n",
       "      <td>0.3</td>\n",
       "      <td>17.29</td>\n",
       "    </tr>\n",
       "    <tr>\n",
       "      <th>4</th>\n",
       "      <td>2</td>\n",
       "      <td>2017-03-31 06:31:53</td>\n",
       "      <td>2017-03-31 06:41:48</td>\n",
       "      <td>1</td>\n",
       "      <td>3.45</td>\n",
       "      <td>1</td>\n",
       "      <td>N</td>\n",
       "      <td>41</td>\n",
       "      <td>162</td>\n",
       "      <td>2</td>\n",
       "      <td>12.0</td>\n",
       "      <td>0.5</td>\n",
       "      <td>0.5</td>\n",
       "      <td>0.00</td>\n",
       "      <td>0.0</td>\n",
       "      <td>0.3</td>\n",
       "      <td>13.30</td>\n",
       "    </tr>\n",
       "  </tbody>\n",
       "</table>\n",
       "</div>"
      ],
      "text/plain": [
       "   VendorID tpep_pickup_datetime tpep_dropoff_datetime  passenger_count  \\\n",
       "0         2  2017-03-09 21:30:11   2017-03-09 21:44:20                1   \n",
       "1         2  2017-03-09 21:47:00   2017-03-09 21:58:01                1   \n",
       "2         2  2017-03-09 22:01:08   2017-03-09 22:11:16                1   \n",
       "3         2  2017-03-09 22:16:05   2017-03-10 06:26:11                1   \n",
       "4         2  2017-03-31 06:31:53   2017-03-31 06:41:48                1   \n",
       "\n",
       "   trip_distance  RatecodeID store_and_fwd_flag  PULocationID  DOLocationID  \\\n",
       "0           4.06           1                  N           148            48   \n",
       "1           2.73           1                  N            48           107   \n",
       "2           2.27           1                  N            79           162   \n",
       "3           3.86           1                  N           237            41   \n",
       "4           3.45           1                  N            41           162   \n",
       "\n",
       "   payment_type  fare_amount  extra  mta_tax  tip_amount  tolls_amount  \\\n",
       "0             1         14.0    0.5      0.5        3.06           0.0   \n",
       "1             2         11.5    0.5      0.5        0.00           0.0   \n",
       "2             1         10.0    0.5      0.5        2.82           0.0   \n",
       "3             1         12.0    0.5      0.5        3.99           0.0   \n",
       "4             2         12.0    0.5      0.5        0.00           0.0   \n",
       "\n",
       "   improvement_surcharge  total_amount  \n",
       "0                    0.3         18.36  \n",
       "1                    0.3         12.80  \n",
       "2                    0.3         14.12  \n",
       "3                    0.3         17.29  \n",
       "4                    0.3         13.30  "
      ]
     },
     "execution_count": 226,
     "metadata": {},
     "output_type": "execute_result"
    }
   ],
   "source": [
    "# print(df.shape)\n",
    "# df.head()"
   ]
  },
  {
   "cell_type": "code",
   "execution_count": 227,
   "metadata": {},
   "outputs": [
    {
     "name": "stdout",
     "output_type": "stream",
     "text": [
      "(29236, 17)\n"
     ]
    }
   ],
   "source": [
    "# generate random sample to work with for iteration\n",
    "# comment out when working with full dataset\n",
    "# df = df.sample(frac=0.001)\n",
    "# print(df.shape)"
   ]
  },
  {
   "cell_type": "code",
   "execution_count": 228,
   "metadata": {},
   "outputs": [],
   "source": [
    "# export to csv\n",
    "# df.to_csv('sample.csv')"
   ]
  },
  {
   "cell_type": "code",
   "execution_count": 229,
   "metadata": {},
   "outputs": [
    {
     "data": {
      "text/html": [
       "<div>\n",
       "<style scoped>\n",
       "    .dataframe tbody tr th:only-of-type {\n",
       "        vertical-align: middle;\n",
       "    }\n",
       "\n",
       "    .dataframe tbody tr th {\n",
       "        vertical-align: top;\n",
       "    }\n",
       "\n",
       "    .dataframe thead th {\n",
       "        text-align: right;\n",
       "    }\n",
       "</style>\n",
       "<table border=\"1\" class=\"dataframe\">\n",
       "  <thead>\n",
       "    <tr style=\"text-align: right;\">\n",
       "      <th></th>\n",
       "      <th>Unnamed: 0</th>\n",
       "      <th>VendorID</th>\n",
       "      <th>passenger_count</th>\n",
       "      <th>trip_distance</th>\n",
       "      <th>RatecodeID</th>\n",
       "      <th>PULocationID</th>\n",
       "      <th>DOLocationID</th>\n",
       "      <th>payment_type</th>\n",
       "      <th>fare_amount</th>\n",
       "      <th>extra</th>\n",
       "      <th>mta_tax</th>\n",
       "      <th>tip_amount</th>\n",
       "      <th>tolls_amount</th>\n",
       "      <th>improvement_surcharge</th>\n",
       "      <th>total_amount</th>\n",
       "    </tr>\n",
       "  </thead>\n",
       "  <tbody>\n",
       "    <tr>\n",
       "      <th>count</th>\n",
       "      <td>2.923600e+04</td>\n",
       "      <td>29236.000000</td>\n",
       "      <td>29236.000000</td>\n",
       "      <td>29236.000000</td>\n",
       "      <td>29236.000000</td>\n",
       "      <td>29236.000000</td>\n",
       "      <td>29236.000000</td>\n",
       "      <td>29236.000000</td>\n",
       "      <td>29236.000000</td>\n",
       "      <td>29236.000000</td>\n",
       "      <td>29236.000000</td>\n",
       "      <td>29236.000000</td>\n",
       "      <td>29236.000000</td>\n",
       "      <td>29236.000000</td>\n",
       "      <td>29236.000000</td>\n",
       "    </tr>\n",
       "    <tr>\n",
       "      <th>mean</th>\n",
       "      <td>4.904157e+06</td>\n",
       "      <td>1.541353</td>\n",
       "      <td>1.630079</td>\n",
       "      <td>2.948478</td>\n",
       "      <td>1.046963</td>\n",
       "      <td>162.796039</td>\n",
       "      <td>161.183985</td>\n",
       "      <td>1.327781</td>\n",
       "      <td>20.590054</td>\n",
       "      <td>0.331765</td>\n",
       "      <td>0.497076</td>\n",
       "      <td>1.888916</td>\n",
       "      <td>0.336562</td>\n",
       "      <td>0.299631</td>\n",
       "      <td>23.947714</td>\n",
       "    </tr>\n",
       "    <tr>\n",
       "      <th>std</th>\n",
       "      <td>2.827852e+06</td>\n",
       "      <td>0.498296</td>\n",
       "      <td>1.270581</td>\n",
       "      <td>3.805084</td>\n",
       "      <td>0.648808</td>\n",
       "      <td>66.422180</td>\n",
       "      <td>70.240761</td>\n",
       "      <td>0.490577</td>\n",
       "      <td>1276.788654</td>\n",
       "      <td>0.446842</td>\n",
       "      <td>0.041355</td>\n",
       "      <td>2.739267</td>\n",
       "      <td>1.501415</td>\n",
       "      <td>0.014249</td>\n",
       "      <td>1276.801655</td>\n",
       "    </tr>\n",
       "    <tr>\n",
       "      <th>min</th>\n",
       "      <td>2.700000e+02</td>\n",
       "      <td>1.000000</td>\n",
       "      <td>0.000000</td>\n",
       "      <td>0.000000</td>\n",
       "      <td>1.000000</td>\n",
       "      <td>1.000000</td>\n",
       "      <td>1.000000</td>\n",
       "      <td>1.000000</td>\n",
       "      <td>-52.000000</td>\n",
       "      <td>-1.000000</td>\n",
       "      <td>-0.500000</td>\n",
       "      <td>-1.140000</td>\n",
       "      <td>0.000000</td>\n",
       "      <td>-0.300000</td>\n",
       "      <td>-52.800000</td>\n",
       "    </tr>\n",
       "    <tr>\n",
       "      <th>25%</th>\n",
       "      <td>2.463455e+06</td>\n",
       "      <td>1.000000</td>\n",
       "      <td>1.000000</td>\n",
       "      <td>0.980000</td>\n",
       "      <td>1.000000</td>\n",
       "      <td>114.000000</td>\n",
       "      <td>112.000000</td>\n",
       "      <td>1.000000</td>\n",
       "      <td>6.500000</td>\n",
       "      <td>0.000000</td>\n",
       "      <td>0.500000</td>\n",
       "      <td>0.000000</td>\n",
       "      <td>0.000000</td>\n",
       "      <td>0.300000</td>\n",
       "      <td>8.750000</td>\n",
       "    </tr>\n",
       "    <tr>\n",
       "      <th>50%</th>\n",
       "      <td>4.911608e+06</td>\n",
       "      <td>2.000000</td>\n",
       "      <td>1.000000</td>\n",
       "      <td>1.600000</td>\n",
       "      <td>1.000000</td>\n",
       "      <td>162.000000</td>\n",
       "      <td>162.000000</td>\n",
       "      <td>1.000000</td>\n",
       "      <td>9.500000</td>\n",
       "      <td>0.000000</td>\n",
       "      <td>0.500000</td>\n",
       "      <td>1.360000</td>\n",
       "      <td>0.000000</td>\n",
       "      <td>0.300000</td>\n",
       "      <td>11.800000</td>\n",
       "    </tr>\n",
       "    <tr>\n",
       "      <th>75%</th>\n",
       "      <td>7.333432e+06</td>\n",
       "      <td>2.000000</td>\n",
       "      <td>2.000000</td>\n",
       "      <td>3.012500</td>\n",
       "      <td>1.000000</td>\n",
       "      <td>233.000000</td>\n",
       "      <td>233.000000</td>\n",
       "      <td>2.000000</td>\n",
       "      <td>15.000000</td>\n",
       "      <td>0.500000</td>\n",
       "      <td>0.500000</td>\n",
       "      <td>2.460000</td>\n",
       "      <td>0.000000</td>\n",
       "      <td>0.300000</td>\n",
       "      <td>17.850000</td>\n",
       "    </tr>\n",
       "    <tr>\n",
       "      <th>max</th>\n",
       "      <td>1.029388e+07</td>\n",
       "      <td>2.000000</td>\n",
       "      <td>6.000000</td>\n",
       "      <td>72.680000</td>\n",
       "      <td>99.000000</td>\n",
       "      <td>265.000000</td>\n",
       "      <td>265.000000</td>\n",
       "      <td>4.000000</td>\n",
       "      <td>218316.300000</td>\n",
       "      <td>4.500000</td>\n",
       "      <td>0.500000</td>\n",
       "      <td>115.000000</td>\n",
       "      <td>25.000000</td>\n",
       "      <td>0.300000</td>\n",
       "      <td>218317.090000</td>\n",
       "    </tr>\n",
       "  </tbody>\n",
       "</table>\n",
       "</div>"
      ],
      "text/plain": [
       "         Unnamed: 0      VendorID  passenger_count  trip_distance  \\\n",
       "count  2.923600e+04  29236.000000     29236.000000   29236.000000   \n",
       "mean   4.904157e+06      1.541353         1.630079       2.948478   \n",
       "std    2.827852e+06      0.498296         1.270581       3.805084   \n",
       "min    2.700000e+02      1.000000         0.000000       0.000000   \n",
       "25%    2.463455e+06      1.000000         1.000000       0.980000   \n",
       "50%    4.911608e+06      2.000000         1.000000       1.600000   \n",
       "75%    7.333432e+06      2.000000         2.000000       3.012500   \n",
       "max    1.029388e+07      2.000000         6.000000      72.680000   \n",
       "\n",
       "         RatecodeID  PULocationID  DOLocationID  payment_type    fare_amount  \\\n",
       "count  29236.000000  29236.000000  29236.000000  29236.000000   29236.000000   \n",
       "mean       1.046963    162.796039    161.183985      1.327781      20.590054   \n",
       "std        0.648808     66.422180     70.240761      0.490577    1276.788654   \n",
       "min        1.000000      1.000000      1.000000      1.000000     -52.000000   \n",
       "25%        1.000000    114.000000    112.000000      1.000000       6.500000   \n",
       "50%        1.000000    162.000000    162.000000      1.000000       9.500000   \n",
       "75%        1.000000    233.000000    233.000000      2.000000      15.000000   \n",
       "max       99.000000    265.000000    265.000000      4.000000  218316.300000   \n",
       "\n",
       "              extra       mta_tax    tip_amount  tolls_amount  \\\n",
       "count  29236.000000  29236.000000  29236.000000  29236.000000   \n",
       "mean       0.331765      0.497076      1.888916      0.336562   \n",
       "std        0.446842      0.041355      2.739267      1.501415   \n",
       "min       -1.000000     -0.500000     -1.140000      0.000000   \n",
       "25%        0.000000      0.500000      0.000000      0.000000   \n",
       "50%        0.000000      0.500000      1.360000      0.000000   \n",
       "75%        0.500000      0.500000      2.460000      0.000000   \n",
       "max        4.500000      0.500000    115.000000     25.000000   \n",
       "\n",
       "       improvement_surcharge   total_amount  \n",
       "count           29236.000000   29236.000000  \n",
       "mean                0.299631      23.947714  \n",
       "std                 0.014249    1276.801655  \n",
       "min                -0.300000     -52.800000  \n",
       "25%                 0.300000       8.750000  \n",
       "50%                 0.300000      11.800000  \n",
       "75%                 0.300000      17.850000  \n",
       "max                 0.300000  218317.090000  "
      ]
     },
     "execution_count": 229,
     "metadata": {},
     "output_type": "execute_result"
    }
   ],
   "source": [
    "# High level overview\n",
    "df = pd.read_csv('../data/sample.csv')\n",
    "df.describe()"
   ]
  },
  {
   "cell_type": "code",
   "execution_count": 230,
   "metadata": {},
   "outputs": [
    {
     "data": {
      "text/html": [
       "<div>\n",
       "<style scoped>\n",
       "    .dataframe tbody tr th:only-of-type {\n",
       "        vertical-align: middle;\n",
       "    }\n",
       "\n",
       "    .dataframe tbody tr th {\n",
       "        vertical-align: top;\n",
       "    }\n",
       "\n",
       "    .dataframe thead th {\n",
       "        text-align: right;\n",
       "    }\n",
       "</style>\n",
       "<table border=\"1\" class=\"dataframe\">\n",
       "  <thead>\n",
       "    <tr style=\"text-align: right;\">\n",
       "      <th></th>\n",
       "      <th>Unnamed: 0</th>\n",
       "      <th>VendorID</th>\n",
       "      <th>passenger_count</th>\n",
       "      <th>trip_distance</th>\n",
       "      <th>RatecodeID</th>\n",
       "      <th>PULocationID</th>\n",
       "      <th>DOLocationID</th>\n",
       "      <th>payment_type</th>\n",
       "      <th>fare_amount</th>\n",
       "      <th>extra</th>\n",
       "      <th>mta_tax</th>\n",
       "      <th>tip_amount</th>\n",
       "      <th>tolls_amount</th>\n",
       "      <th>improvement_surcharge</th>\n",
       "      <th>total_amount</th>\n",
       "    </tr>\n",
       "  </thead>\n",
       "  <tbody>\n",
       "    <tr>\n",
       "      <th>count</th>\n",
       "      <td>2.920800e+04</td>\n",
       "      <td>29208.000000</td>\n",
       "      <td>29208.000000</td>\n",
       "      <td>29208.000000</td>\n",
       "      <td>29208.000000</td>\n",
       "      <td>29208.000000</td>\n",
       "      <td>29208.000000</td>\n",
       "      <td>29208.000000</td>\n",
       "      <td>29208.000000</td>\n",
       "      <td>29208.00000</td>\n",
       "      <td>29208.000000</td>\n",
       "      <td>29208.000000</td>\n",
       "      <td>29208.000000</td>\n",
       "      <td>29208.000000</td>\n",
       "      <td>29208.000000</td>\n",
       "    </tr>\n",
       "    <tr>\n",
       "      <th>mean</th>\n",
       "      <td>4.903957e+06</td>\n",
       "      <td>1.541290</td>\n",
       "      <td>1.630101</td>\n",
       "      <td>2.948208</td>\n",
       "      <td>1.045467</td>\n",
       "      <td>162.784374</td>\n",
       "      <td>161.148898</td>\n",
       "      <td>1.326315</td>\n",
       "      <td>20.613302</td>\n",
       "      <td>0.33222</td>\n",
       "      <td>0.497809</td>\n",
       "      <td>1.886418</td>\n",
       "      <td>0.336498</td>\n",
       "      <td>0.299969</td>\n",
       "      <td>23.969929</td>\n",
       "    </tr>\n",
       "    <tr>\n",
       "      <th>std</th>\n",
       "      <td>2.827689e+06</td>\n",
       "      <td>0.498301</td>\n",
       "      <td>1.270696</td>\n",
       "      <td>3.799906</td>\n",
       "      <td>0.644543</td>\n",
       "      <td>66.428201</td>\n",
       "      <td>70.245374</td>\n",
       "      <td>0.487699</td>\n",
       "      <td>1277.400265</td>\n",
       "      <td>0.44674</td>\n",
       "      <td>0.033028</td>\n",
       "      <td>2.658167</td>\n",
       "      <td>1.501457</td>\n",
       "      <td>0.003040</td>\n",
       "      <td>1277.413085</td>\n",
       "    </tr>\n",
       "    <tr>\n",
       "      <th>min</th>\n",
       "      <td>2.700000e+02</td>\n",
       "      <td>1.000000</td>\n",
       "      <td>0.000000</td>\n",
       "      <td>0.000000</td>\n",
       "      <td>1.000000</td>\n",
       "      <td>1.000000</td>\n",
       "      <td>1.000000</td>\n",
       "      <td>1.000000</td>\n",
       "      <td>0.010000</td>\n",
       "      <td>0.00000</td>\n",
       "      <td>0.000000</td>\n",
       "      <td>0.000000</td>\n",
       "      <td>0.000000</td>\n",
       "      <td>0.000000</td>\n",
       "      <td>0.310000</td>\n",
       "    </tr>\n",
       "    <tr>\n",
       "      <th>25%</th>\n",
       "      <td>2.462941e+06</td>\n",
       "      <td>1.000000</td>\n",
       "      <td>1.000000</td>\n",
       "      <td>0.980000</td>\n",
       "      <td>1.000000</td>\n",
       "      <td>114.000000</td>\n",
       "      <td>112.000000</td>\n",
       "      <td>1.000000</td>\n",
       "      <td>6.500000</td>\n",
       "      <td>0.00000</td>\n",
       "      <td>0.500000</td>\n",
       "      <td>0.000000</td>\n",
       "      <td>0.000000</td>\n",
       "      <td>0.300000</td>\n",
       "      <td>8.750000</td>\n",
       "    </tr>\n",
       "    <tr>\n",
       "      <th>50%</th>\n",
       "      <td>4.911608e+06</td>\n",
       "      <td>2.000000</td>\n",
       "      <td>1.000000</td>\n",
       "      <td>1.600000</td>\n",
       "      <td>1.000000</td>\n",
       "      <td>162.000000</td>\n",
       "      <td>162.000000</td>\n",
       "      <td>1.000000</td>\n",
       "      <td>9.500000</td>\n",
       "      <td>0.00000</td>\n",
       "      <td>0.500000</td>\n",
       "      <td>1.400000</td>\n",
       "      <td>0.000000</td>\n",
       "      <td>0.300000</td>\n",
       "      <td>11.800000</td>\n",
       "    </tr>\n",
       "    <tr>\n",
       "      <th>75%</th>\n",
       "      <td>7.333432e+06</td>\n",
       "      <td>2.000000</td>\n",
       "      <td>2.000000</td>\n",
       "      <td>3.020000</td>\n",
       "      <td>1.000000</td>\n",
       "      <td>233.000000</td>\n",
       "      <td>233.000000</td>\n",
       "      <td>2.000000</td>\n",
       "      <td>15.000000</td>\n",
       "      <td>0.50000</td>\n",
       "      <td>0.500000</td>\n",
       "      <td>2.460000</td>\n",
       "      <td>0.000000</td>\n",
       "      <td>0.300000</td>\n",
       "      <td>17.850000</td>\n",
       "    </tr>\n",
       "    <tr>\n",
       "      <th>max</th>\n",
       "      <td>1.029388e+07</td>\n",
       "      <td>2.000000</td>\n",
       "      <td>6.000000</td>\n",
       "      <td>72.680000</td>\n",
       "      <td>99.000000</td>\n",
       "      <td>265.000000</td>\n",
       "      <td>265.000000</td>\n",
       "      <td>4.000000</td>\n",
       "      <td>218316.300000</td>\n",
       "      <td>4.50000</td>\n",
       "      <td>0.500000</td>\n",
       "      <td>100.300000</td>\n",
       "      <td>25.000000</td>\n",
       "      <td>0.300000</td>\n",
       "      <td>218317.090000</td>\n",
       "    </tr>\n",
       "  </tbody>\n",
       "</table>\n",
       "</div>"
      ],
      "text/plain": [
       "         Unnamed: 0      VendorID  passenger_count  trip_distance  \\\n",
       "count  2.920800e+04  29208.000000     29208.000000   29208.000000   \n",
       "mean   4.903957e+06      1.541290         1.630101       2.948208   \n",
       "std    2.827689e+06      0.498301         1.270696       3.799906   \n",
       "min    2.700000e+02      1.000000         0.000000       0.000000   \n",
       "25%    2.462941e+06      1.000000         1.000000       0.980000   \n",
       "50%    4.911608e+06      2.000000         1.000000       1.600000   \n",
       "75%    7.333432e+06      2.000000         2.000000       3.020000   \n",
       "max    1.029388e+07      2.000000         6.000000      72.680000   \n",
       "\n",
       "         RatecodeID  PULocationID  DOLocationID  payment_type    fare_amount  \\\n",
       "count  29208.000000  29208.000000  29208.000000  29208.000000   29208.000000   \n",
       "mean       1.045467    162.784374    161.148898      1.326315      20.613302   \n",
       "std        0.644543     66.428201     70.245374      0.487699    1277.400265   \n",
       "min        1.000000      1.000000      1.000000      1.000000       0.010000   \n",
       "25%        1.000000    114.000000    112.000000      1.000000       6.500000   \n",
       "50%        1.000000    162.000000    162.000000      1.000000       9.500000   \n",
       "75%        1.000000    233.000000    233.000000      2.000000      15.000000   \n",
       "max       99.000000    265.000000    265.000000      4.000000  218316.300000   \n",
       "\n",
       "             extra       mta_tax    tip_amount  tolls_amount  \\\n",
       "count  29208.00000  29208.000000  29208.000000  29208.000000   \n",
       "mean       0.33222      0.497809      1.886418      0.336498   \n",
       "std        0.44674      0.033028      2.658167      1.501457   \n",
       "min        0.00000      0.000000      0.000000      0.000000   \n",
       "25%        0.00000      0.500000      0.000000      0.000000   \n",
       "50%        0.00000      0.500000      1.400000      0.000000   \n",
       "75%        0.50000      0.500000      2.460000      0.000000   \n",
       "max        4.50000      0.500000    100.300000     25.000000   \n",
       "\n",
       "       improvement_surcharge   total_amount  \n",
       "count           29208.000000   29208.000000  \n",
       "mean                0.299969      23.969929  \n",
       "std                 0.003040    1277.413085  \n",
       "min                 0.000000       0.310000  \n",
       "25%                 0.300000       8.750000  \n",
       "50%                 0.300000      11.800000  \n",
       "75%                 0.300000      17.850000  \n",
       "max                 0.300000  218317.090000  "
      ]
     },
     "execution_count": 230,
     "metadata": {},
     "output_type": "execute_result"
    }
   ],
   "source": [
    "# remove negative values columns where it is not possible to have negative values\n",
    "cols = ['fare_amount', 'extra', 'mta_tax', 'tip_amount', 'tolls_amount', 'improvement_surcharge', 'total_amount']\n",
    "for col in cols:\n",
    "    df = df[df[col] >= 0]\n",
    "    \n",
    "# remove zero values from where it is not possible to have zero values\n",
    "cols = ['fare_amount', 'total_amount']\n",
    "for col in cols:\n",
    "    df = df[df[col] > 0]\n",
    "\n",
    "df.describe()"
   ]
  },
  {
   "cell_type": "markdown",
   "metadata": {},
   "source": [
    "### Missing Values\n",
    "There are no missing values. "
   ]
  },
  {
   "cell_type": "code",
   "execution_count": 231,
   "metadata": {},
   "outputs": [],
   "source": [
    "# list of variables with missing values\n",
    "missing_vals = [var for var in df.columns if df[var].isnull().sum()>1]\n",
    "\n",
    "for var in missing_vals:\n",
    "    print(f'var, {np.round(df[var].isnull())} % missing values')"
   ]
  },
  {
   "cell_type": "markdown",
   "metadata": {},
   "source": [
    "### Numerical Values"
   ]
  },
  {
   "cell_type": "code",
   "execution_count": 232,
   "metadata": {},
   "outputs": [
    {
     "name": "stdout",
     "output_type": "stream",
     "text": [
      "Num of numerical variables:  15\n"
     ]
    },
    {
     "data": {
      "text/html": [
       "<div>\n",
       "<style scoped>\n",
       "    .dataframe tbody tr th:only-of-type {\n",
       "        vertical-align: middle;\n",
       "    }\n",
       "\n",
       "    .dataframe tbody tr th {\n",
       "        vertical-align: top;\n",
       "    }\n",
       "\n",
       "    .dataframe thead th {\n",
       "        text-align: right;\n",
       "    }\n",
       "</style>\n",
       "<table border=\"1\" class=\"dataframe\">\n",
       "  <thead>\n",
       "    <tr style=\"text-align: right;\">\n",
       "      <th></th>\n",
       "      <th>Unnamed: 0</th>\n",
       "      <th>VendorID</th>\n",
       "      <th>passenger_count</th>\n",
       "      <th>trip_distance</th>\n",
       "      <th>RatecodeID</th>\n",
       "      <th>PULocationID</th>\n",
       "      <th>DOLocationID</th>\n",
       "      <th>payment_type</th>\n",
       "      <th>fare_amount</th>\n",
       "      <th>extra</th>\n",
       "      <th>mta_tax</th>\n",
       "      <th>tip_amount</th>\n",
       "      <th>tolls_amount</th>\n",
       "      <th>improvement_surcharge</th>\n",
       "      <th>total_amount</th>\n",
       "    </tr>\n",
       "  </thead>\n",
       "  <tbody>\n",
       "    <tr>\n",
       "      <th>0</th>\n",
       "      <td>2466149</td>\n",
       "      <td>2</td>\n",
       "      <td>2</td>\n",
       "      <td>2.03</td>\n",
       "      <td>1</td>\n",
       "      <td>140</td>\n",
       "      <td>236</td>\n",
       "      <td>1</td>\n",
       "      <td>9.0</td>\n",
       "      <td>0.0</td>\n",
       "      <td>0.5</td>\n",
       "      <td>1.96</td>\n",
       "      <td>0.0</td>\n",
       "      <td>0.3</td>\n",
       "      <td>11.76</td>\n",
       "    </tr>\n",
       "    <tr>\n",
       "      <th>1</th>\n",
       "      <td>3406713</td>\n",
       "      <td>1</td>\n",
       "      <td>1</td>\n",
       "      <td>0.40</td>\n",
       "      <td>1</td>\n",
       "      <td>43</td>\n",
       "      <td>142</td>\n",
       "      <td>1</td>\n",
       "      <td>4.5</td>\n",
       "      <td>0.0</td>\n",
       "      <td>0.5</td>\n",
       "      <td>1.05</td>\n",
       "      <td>0.0</td>\n",
       "      <td>0.3</td>\n",
       "      <td>6.35</td>\n",
       "    </tr>\n",
       "    <tr>\n",
       "      <th>2</th>\n",
       "      <td>7071298</td>\n",
       "      <td>2</td>\n",
       "      <td>3</td>\n",
       "      <td>1.04</td>\n",
       "      <td>1</td>\n",
       "      <td>151</td>\n",
       "      <td>238</td>\n",
       "      <td>1</td>\n",
       "      <td>6.5</td>\n",
       "      <td>1.0</td>\n",
       "      <td>0.5</td>\n",
       "      <td>0.00</td>\n",
       "      <td>0.0</td>\n",
       "      <td>0.3</td>\n",
       "      <td>8.30</td>\n",
       "    </tr>\n",
       "    <tr>\n",
       "      <th>3</th>\n",
       "      <td>3845741</td>\n",
       "      <td>2</td>\n",
       "      <td>1</td>\n",
       "      <td>1.79</td>\n",
       "      <td>1</td>\n",
       "      <td>239</td>\n",
       "      <td>236</td>\n",
       "      <td>2</td>\n",
       "      <td>9.5</td>\n",
       "      <td>0.0</td>\n",
       "      <td>0.5</td>\n",
       "      <td>0.00</td>\n",
       "      <td>0.0</td>\n",
       "      <td>0.3</td>\n",
       "      <td>10.30</td>\n",
       "    </tr>\n",
       "    <tr>\n",
       "      <th>4</th>\n",
       "      <td>3672997</td>\n",
       "      <td>1</td>\n",
       "      <td>1</td>\n",
       "      <td>1.20</td>\n",
       "      <td>1</td>\n",
       "      <td>246</td>\n",
       "      <td>246</td>\n",
       "      <td>1</td>\n",
       "      <td>6.0</td>\n",
       "      <td>0.5</td>\n",
       "      <td>0.5</td>\n",
       "      <td>2.15</td>\n",
       "      <td>0.0</td>\n",
       "      <td>0.3</td>\n",
       "      <td>9.45</td>\n",
       "    </tr>\n",
       "  </tbody>\n",
       "</table>\n",
       "</div>"
      ],
      "text/plain": [
       "   Unnamed: 0  VendorID  passenger_count  trip_distance  RatecodeID  \\\n",
       "0     2466149         2                2           2.03           1   \n",
       "1     3406713         1                1           0.40           1   \n",
       "2     7071298         2                3           1.04           1   \n",
       "3     3845741         2                1           1.79           1   \n",
       "4     3672997         1                1           1.20           1   \n",
       "\n",
       "   PULocationID  DOLocationID  payment_type  fare_amount  extra  mta_tax  \\\n",
       "0           140           236             1          9.0    0.0      0.5   \n",
       "1            43           142             1          4.5    0.0      0.5   \n",
       "2           151           238             1          6.5    1.0      0.5   \n",
       "3           239           236             2          9.5    0.0      0.5   \n",
       "4           246           246             1          6.0    0.5      0.5   \n",
       "\n",
       "   tip_amount  tolls_amount  improvement_surcharge  total_amount  \n",
       "0        1.96           0.0                    0.3         11.76  \n",
       "1        1.05           0.0                    0.3          6.35  \n",
       "2        0.00           0.0                    0.3          8.30  \n",
       "3        0.00           0.0                    0.3         10.30  \n",
       "4        2.15           0.0                    0.3          9.45  "
      ]
     },
     "execution_count": 232,
     "metadata": {},
     "output_type": "execute_result"
    }
   ],
   "source": [
    "# list of variables with numerical values\n",
    "num_vars = [var for var in df.columns if df[var].dtypes != 'O']\n",
    "\n",
    "print(\"Num of numerical variables: \", len(num_vars))\n",
    "\n",
    "df[num_vars].head()"
   ]
  },
  {
   "cell_type": "code",
   "execution_count": 233,
   "metadata": {},
   "outputs": [
    {
     "data": {
      "text/plain": [
       "150"
      ]
     },
     "execution_count": 233,
     "metadata": {},
     "output_type": "execute_result"
    }
   ],
   "source": [
    "len(df['PULocationID'].unique())"
   ]
  },
  {
   "cell_type": "code",
   "execution_count": 234,
   "metadata": {},
   "outputs": [
    {
     "name": "stdout",
     "output_type": "stream",
     "text": [
      "Number of PULocationIDs: 150\n",
      "Number of DOLocationID: 223\n"
     ]
    }
   ],
   "source": [
    "print(f'Number of PULocationIDs: {len(df.PULocationID.unique())}')\n",
    "print(f'Number of DOLocationID: {len(df.DOLocationID.unique())}')"
   ]
  },
  {
   "cell_type": "code",
   "execution_count": 235,
   "metadata": {},
   "outputs": [],
   "source": [
    "# deal with time variable which is a string object: tpep_pickup_datetime\n",
    "def string_to_datetime(df, var):\n",
    "    \"\"\"\n",
    "    Converts string representation of date into datetime.\n",
    "    Splits datetime into separate columns.\n",
    "    \"\"\"\n",
    "    df = df.copy()\n",
    "    \n",
    "    df['time'] = pd.to_datetime(df[var])\n",
    "   \n",
    "    df['day'] = df['time'].dt.day\n",
    "    df['month'] = df['time'].dt.month\n",
    "    df['year'] = df['time'].dt.year\n",
    "    df['hour'] = df['time'].dt.hour\n",
    "    df['minute'] = df['time'].dt.minute\n",
    "    df['second'] = df['time'].dt.second\n",
    "    \n",
    "    df = df.drop(columns=['time', var])\n",
    "\n",
    "    return df\n",
    "\n",
    "df = string_to_datetime(df, 'tpep_pickup_datetime')"
   ]
  },
  {
   "cell_type": "code",
   "execution_count": 236,
   "metadata": {},
   "outputs": [
    {
     "data": {
      "text/html": [
       "<div>\n",
       "<style scoped>\n",
       "    .dataframe tbody tr th:only-of-type {\n",
       "        vertical-align: middle;\n",
       "    }\n",
       "\n",
       "    .dataframe tbody tr th {\n",
       "        vertical-align: top;\n",
       "    }\n",
       "\n",
       "    .dataframe thead th {\n",
       "        text-align: right;\n",
       "    }\n",
       "</style>\n",
       "<table border=\"1\" class=\"dataframe\">\n",
       "  <thead>\n",
       "    <tr style=\"text-align: right;\">\n",
       "      <th></th>\n",
       "      <th>Unnamed: 0</th>\n",
       "      <th>VendorID</th>\n",
       "      <th>tpep_dropoff_datetime</th>\n",
       "      <th>passenger_count</th>\n",
       "      <th>trip_distance</th>\n",
       "      <th>RatecodeID</th>\n",
       "      <th>store_and_fwd_flag</th>\n",
       "      <th>PULocationID</th>\n",
       "      <th>DOLocationID</th>\n",
       "      <th>payment_type</th>\n",
       "      <th>...</th>\n",
       "      <th>tip_amount</th>\n",
       "      <th>tolls_amount</th>\n",
       "      <th>improvement_surcharge</th>\n",
       "      <th>total_amount</th>\n",
       "      <th>day</th>\n",
       "      <th>month</th>\n",
       "      <th>year</th>\n",
       "      <th>hour</th>\n",
       "      <th>minute</th>\n",
       "      <th>second</th>\n",
       "    </tr>\n",
       "  </thead>\n",
       "  <tbody>\n",
       "    <tr>\n",
       "      <th>0</th>\n",
       "      <td>2466149</td>\n",
       "      <td>2</td>\n",
       "      <td>2017-03-06 12:20:21</td>\n",
       "      <td>2</td>\n",
       "      <td>2.03</td>\n",
       "      <td>1</td>\n",
       "      <td>N</td>\n",
       "      <td>140</td>\n",
       "      <td>236</td>\n",
       "      <td>1</td>\n",
       "      <td>...</td>\n",
       "      <td>1.96</td>\n",
       "      <td>0.0</td>\n",
       "      <td>0.3</td>\n",
       "      <td>11.76</td>\n",
       "      <td>6</td>\n",
       "      <td>3</td>\n",
       "      <td>2017</td>\n",
       "      <td>12</td>\n",
       "      <td>10</td>\n",
       "      <td>8</td>\n",
       "    </tr>\n",
       "    <tr>\n",
       "      <th>1</th>\n",
       "      <td>3406713</td>\n",
       "      <td>1</td>\n",
       "      <td>2017-06-14 08:14:38</td>\n",
       "      <td>1</td>\n",
       "      <td>0.40</td>\n",
       "      <td>1</td>\n",
       "      <td>N</td>\n",
       "      <td>43</td>\n",
       "      <td>142</td>\n",
       "      <td>1</td>\n",
       "      <td>...</td>\n",
       "      <td>1.05</td>\n",
       "      <td>0.0</td>\n",
       "      <td>0.3</td>\n",
       "      <td>6.35</td>\n",
       "      <td>14</td>\n",
       "      <td>6</td>\n",
       "      <td>2017</td>\n",
       "      <td>8</td>\n",
       "      <td>11</td>\n",
       "      <td>30</td>\n",
       "    </tr>\n",
       "    <tr>\n",
       "      <th>2</th>\n",
       "      <td>7071298</td>\n",
       "      <td>2</td>\n",
       "      <td>2017-11-22 19:49:49</td>\n",
       "      <td>3</td>\n",
       "      <td>1.04</td>\n",
       "      <td>1</td>\n",
       "      <td>N</td>\n",
       "      <td>151</td>\n",
       "      <td>238</td>\n",
       "      <td>1</td>\n",
       "      <td>...</td>\n",
       "      <td>0.00</td>\n",
       "      <td>0.0</td>\n",
       "      <td>0.3</td>\n",
       "      <td>8.30</td>\n",
       "      <td>22</td>\n",
       "      <td>11</td>\n",
       "      <td>2017</td>\n",
       "      <td>19</td>\n",
       "      <td>42</td>\n",
       "      <td>47</td>\n",
       "    </tr>\n",
       "    <tr>\n",
       "      <th>3</th>\n",
       "      <td>3845741</td>\n",
       "      <td>2</td>\n",
       "      <td>2017-11-12 17:09:24</td>\n",
       "      <td>1</td>\n",
       "      <td>1.79</td>\n",
       "      <td>1</td>\n",
       "      <td>N</td>\n",
       "      <td>239</td>\n",
       "      <td>236</td>\n",
       "      <td>2</td>\n",
       "      <td>...</td>\n",
       "      <td>0.00</td>\n",
       "      <td>0.0</td>\n",
       "      <td>0.3</td>\n",
       "      <td>10.30</td>\n",
       "      <td>12</td>\n",
       "      <td>11</td>\n",
       "      <td>2017</td>\n",
       "      <td>16</td>\n",
       "      <td>58</td>\n",
       "      <td>55</td>\n",
       "    </tr>\n",
       "    <tr>\n",
       "      <th>4</th>\n",
       "      <td>3672997</td>\n",
       "      <td>1</td>\n",
       "      <td>2017-06-14 22:06:32</td>\n",
       "      <td>1</td>\n",
       "      <td>1.20</td>\n",
       "      <td>1</td>\n",
       "      <td>N</td>\n",
       "      <td>246</td>\n",
       "      <td>246</td>\n",
       "      <td>1</td>\n",
       "      <td>...</td>\n",
       "      <td>2.15</td>\n",
       "      <td>0.0</td>\n",
       "      <td>0.3</td>\n",
       "      <td>9.45</td>\n",
       "      <td>14</td>\n",
       "      <td>6</td>\n",
       "      <td>2017</td>\n",
       "      <td>22</td>\n",
       "      <td>1</td>\n",
       "      <td>39</td>\n",
       "    </tr>\n",
       "  </tbody>\n",
       "</table>\n",
       "<p>5 rows × 23 columns</p>\n",
       "</div>"
      ],
      "text/plain": [
       "   Unnamed: 0  VendorID tpep_dropoff_datetime  passenger_count  trip_distance  \\\n",
       "0     2466149         2   2017-03-06 12:20:21                2           2.03   \n",
       "1     3406713         1   2017-06-14 08:14:38                1           0.40   \n",
       "2     7071298         2   2017-11-22 19:49:49                3           1.04   \n",
       "3     3845741         2   2017-11-12 17:09:24                1           1.79   \n",
       "4     3672997         1   2017-06-14 22:06:32                1           1.20   \n",
       "\n",
       "   RatecodeID store_and_fwd_flag  PULocationID  DOLocationID  payment_type  \\\n",
       "0           1                  N           140           236             1   \n",
       "1           1                  N            43           142             1   \n",
       "2           1                  N           151           238             1   \n",
       "3           1                  N           239           236             2   \n",
       "4           1                  N           246           246             1   \n",
       "\n",
       "    ...    tip_amount  tolls_amount  improvement_surcharge  total_amount  day  \\\n",
       "0   ...          1.96           0.0                    0.3         11.76    6   \n",
       "1   ...          1.05           0.0                    0.3          6.35   14   \n",
       "2   ...          0.00           0.0                    0.3          8.30   22   \n",
       "3   ...          0.00           0.0                    0.3         10.30   12   \n",
       "4   ...          2.15           0.0                    0.3          9.45   14   \n",
       "\n",
       "   month  year  hour  minute  second  \n",
       "0      3  2017    12      10       8  \n",
       "1      6  2017     8      11      30  \n",
       "2     11  2017    19      42      47  \n",
       "3     11  2017    16      58      55  \n",
       "4      6  2017    22       1      39  \n",
       "\n",
       "[5 rows x 23 columns]"
      ]
     },
     "execution_count": 236,
     "metadata": {},
     "output_type": "execute_result"
    }
   ],
   "source": [
    "df.head()"
   ]
  },
  {
   "cell_type": "code",
   "execution_count": 237,
   "metadata": {},
   "outputs": [
    {
     "data": {
      "text/plain": [
       "['day', 'month', 'year', 'hour', 'minute', 'second']"
      ]
     },
     "execution_count": 237,
     "metadata": {},
     "output_type": "execute_result"
    }
   ],
   "source": [
    "df.columns\n",
    "time_vars = df.columns[-6:].values.tolist()\n",
    "time_vars"
   ]
  },
  {
   "cell_type": "markdown",
   "metadata": {},
   "source": [
    "Explore relationship between time variables and tip"
   ]
  },
  {
   "cell_type": "code",
   "execution_count": 238,
   "metadata": {
    "scrolled": true
   },
   "outputs": [
    {
     "data": {
      "image/png": "[encoded data removed]",
      "text/plain": [
       "<Figure size 432x288 with 1 Axes>"
      ]
     },
     "metadata": {
      "needs_background": "light"
     },
     "output_type": "display_data"
    },
    {
     "data": {
      "image/png": "[encoded data removed]",
      "text/plain": [
       "<Figure size 432x288 with 1 Axes>"
      ]
     },
     "metadata": {
      "needs_background": "light"
     },
     "output_type": "display_data"
    },
    {
     "data": {
      "image/png": "[encoded data removed]",
      "text/plain": [
       "<Figure size 432x288 with 1 Axes>"
      ]
     },
     "metadata": {
      "needs_background": "light"
     },
     "output_type": "display_data"
    },
    {
     "data": {
      "image/png": "[encoded data removed]",
      "text/plain": [
       "<Figure size 432x288 with 1 Axes>"
      ]
     },
     "metadata": {
      "needs_background": "light"
     },
     "output_type": "display_data"
    },
    {
     "data": {
      "image/png": "[encoded data removed]",
      "text/plain": [
       "<Figure size 432x288 with 1 Axes>"
      ]
     },
     "metadata": {
      "needs_background": "light"
     },
     "output_type": "display_data"
    },
    {
     "data": {
      "image/png": "[encoded data removed]",
      "text/plain": [
       "<Figure size 432x288 with 1 Axes>"
      ]
     },
     "metadata": {
      "needs_background": "light"
     },
     "output_type": "display_data"
    }
   ],
   "source": [
    "def analyze_time_var(df, var):\n",
    "    \"\"\"\n",
    "    Plots time variable against target, tip amount.\n",
    "    \"\"\"\n",
    "    df = df.copy()\n",
    "    \n",
    "    plt.scatter(df[var], df['tip_amount'])\n",
    "    plt.ylabel('Tip_amount')\n",
    "    plt.xlabel(var)\n",
    "    plt.show()\n",
    "\n",
    "time_vars = df.columns[-6:].values.tolist()\n",
    "    \n",
    "for var in time_vars:\n",
    "    analyze_time_var(df, var)"
   ]
  },
  {
   "cell_type": "markdown",
   "metadata": {},
   "source": [
    "#### Discrete Variables"
   ]
  },
  {
   "cell_type": "code",
   "execution_count": 213,
   "metadata": {},
   "outputs": [
    {
     "name": "stdout",
     "output_type": "stream",
     "text": [
      "Number of discrete variables:  7\n"
     ]
    },
    {
     "data": {
      "text/html": [
       "<div>\n",
       "<style scoped>\n",
       "    .dataframe tbody tr th:only-of-type {\n",
       "        vertical-align: middle;\n",
       "    }\n",
       "\n",
       "    .dataframe tbody tr th {\n",
       "        vertical-align: top;\n",
       "    }\n",
       "\n",
       "    .dataframe thead th {\n",
       "        text-align: right;\n",
       "    }\n",
       "</style>\n",
       "<table border=\"1\" class=\"dataframe\">\n",
       "  <thead>\n",
       "    <tr style=\"text-align: right;\">\n",
       "      <th></th>\n",
       "      <th>VendorID</th>\n",
       "      <th>passenger_count</th>\n",
       "      <th>RatecodeID</th>\n",
       "      <th>payment_type</th>\n",
       "      <th>extra</th>\n",
       "      <th>mta_tax</th>\n",
       "      <th>improvement_surcharge</th>\n",
       "    </tr>\n",
       "  </thead>\n",
       "  <tbody>\n",
       "    <tr>\n",
       "      <th>5794509</th>\n",
       "      <td>2</td>\n",
       "      <td>1</td>\n",
       "      <td>1</td>\n",
       "      <td>1</td>\n",
       "      <td>0.5</td>\n",
       "      <td>0.5</td>\n",
       "      <td>0.3</td>\n",
       "    </tr>\n",
       "    <tr>\n",
       "      <th>9937955</th>\n",
       "      <td>2</td>\n",
       "      <td>2</td>\n",
       "      <td>1</td>\n",
       "      <td>1</td>\n",
       "      <td>0.5</td>\n",
       "      <td>0.5</td>\n",
       "      <td>0.3</td>\n",
       "    </tr>\n",
       "    <tr>\n",
       "      <th>174651</th>\n",
       "      <td>2</td>\n",
       "      <td>1</td>\n",
       "      <td>1</td>\n",
       "      <td>1</td>\n",
       "      <td>0.5</td>\n",
       "      <td>0.5</td>\n",
       "      <td>0.3</td>\n",
       "    </tr>\n",
       "    <tr>\n",
       "      <th>759335</th>\n",
       "      <td>2</td>\n",
       "      <td>3</td>\n",
       "      <td>1</td>\n",
       "      <td>1</td>\n",
       "      <td>0.0</td>\n",
       "      <td>0.5</td>\n",
       "      <td>0.3</td>\n",
       "    </tr>\n",
       "    <tr>\n",
       "      <th>8864496</th>\n",
       "      <td>1</td>\n",
       "      <td>1</td>\n",
       "      <td>1</td>\n",
       "      <td>1</td>\n",
       "      <td>0.5</td>\n",
       "      <td>0.5</td>\n",
       "      <td>0.3</td>\n",
       "    </tr>\n",
       "  </tbody>\n",
       "</table>\n",
       "</div>"
      ],
      "text/plain": [
       "         VendorID  passenger_count  RatecodeID  payment_type  extra  mta_tax  \\\n",
       "5794509         2                1           1             1    0.5      0.5   \n",
       "9937955         2                2           1             1    0.5      0.5   \n",
       "174651          2                1           1             1    0.5      0.5   \n",
       "759335          2                3           1             1    0.0      0.5   \n",
       "8864496         1                1           1             1    0.5      0.5   \n",
       "\n",
       "         improvement_surcharge  \n",
       "5794509                    0.3  \n",
       "9937955                    0.3  \n",
       "174651                     0.3  \n",
       "759335                     0.3  \n",
       "8864496                    0.3  "
      ]
     },
     "execution_count": 213,
     "metadata": {},
     "output_type": "execute_result"
    }
   ],
   "source": [
    "# picked 20 as an arbitrary cutoff\n",
    "discrete_vars = [var for var in num_vals if len(df[var].unique())<20 and var not in time_vars]\n",
    "print(f'Number of discrete variables: ', len(discrete_vars))\n",
    "\n",
    "df[discrete_vars].head()"
   ]
  },
  {
   "cell_type": "code",
   "execution_count": 214,
   "metadata": {},
   "outputs": [
    {
     "data": {
      "image/png": "[encoded data removed]",
      "text/plain": [
       "<Figure size 432x288 with 1 Axes>"
      ]
     },
     "metadata": {
      "needs_background": "light"
     },
     "output_type": "display_data"
    },
    {
     "data": {
      "image/png": "[encoded data removed]",
      "text/plain": [
       "<Figure size 432x288 with 1 Axes>"
      ]
     },
     "metadata": {
      "needs_background": "light"
     },
     "output_type": "display_data"
    },
    {
     "data": {
      "image/png": "[encoded data removed]",
      "text/plain": [
       "<Figure size 432x288 with 1 Axes>"
      ]
     },
     "metadata": {
      "needs_background": "light"
     },
     "output_type": "display_data"
    },
    {
     "data": {
      "image/png": "[encoded data removed]",
      "text/plain": [
       "<Figure size 432x288 with 1 Axes>"
      ]
     },
     "metadata": {
      "needs_background": "light"
     },
     "output_type": "display_data"
    },
    {
     "data": {
      "image/png": "[encoded data removed]",
      "text/plain": [
       "<Figure size 432x288 with 1 Axes>"
      ]
     },
     "metadata": {
      "needs_background": "light"
     },
     "output_type": "display_data"
    },
    {
     "data": {
      "image/png": "[encoded data removed]",
      "text/plain": [
       "<Figure size 432x288 with 1 Axes>"
      ]
     },
     "metadata": {
      "needs_background": "light"
     },
     "output_type": "display_data"
    },
    {
     "data": {
      "image/png": "[encoded data removed]",
      "text/plain": [
       "<Figure size 432x288 with 1 Axes>"
      ]
     },
     "metadata": {
      "needs_background": "light"
     },
     "output_type": "display_data"
    }
   ],
   "source": [
    "def analyze_discrete_var(df, var):\n",
    "    \"\"\"\n",
    "    Plots discrete variable against target, tip amount.\n",
    "    \"\"\"\n",
    "    df = df.copy()\n",
    "    \n",
    "    df.groupby(var)['tip_amount'].median().plot.bar()\n",
    "    plt.ylabel('Tip_amount')\n",
    "    plt.xlabel(var)\n",
    "    plt.show()\n",
    "    \n",
    "for var in discrete_vars:\n",
    "    analyze_discrete_var(df, var)"
   ]
  },
  {
   "cell_type": "markdown",
   "metadata": {},
   "source": [
    "#### Continuous variables"
   ]
  },
  {
   "cell_type": "code",
   "execution_count": 215,
   "metadata": {},
   "outputs": [
    {
     "name": "stdout",
     "output_type": "stream",
     "text": [
      "Number of continous variables:  7\n"
     ]
    },
    {
     "data": {
      "text/html": [
       "<div>\n",
       "<style scoped>\n",
       "    .dataframe tbody tr th:only-of-type {\n",
       "        vertical-align: middle;\n",
       "    }\n",
       "\n",
       "    .dataframe tbody tr th {\n",
       "        vertical-align: top;\n",
       "    }\n",
       "\n",
       "    .dataframe thead th {\n",
       "        text-align: right;\n",
       "    }\n",
       "</style>\n",
       "<table border=\"1\" class=\"dataframe\">\n",
       "  <thead>\n",
       "    <tr style=\"text-align: right;\">\n",
       "      <th></th>\n",
       "      <th>trip_distance</th>\n",
       "      <th>PULocationID</th>\n",
       "      <th>DOLocationID</th>\n",
       "      <th>fare_amount</th>\n",
       "      <th>tip_amount</th>\n",
       "      <th>tolls_amount</th>\n",
       "      <th>total_amount</th>\n",
       "    </tr>\n",
       "  </thead>\n",
       "  <tbody>\n",
       "    <tr>\n",
       "      <th>5794509</th>\n",
       "      <td>0.57</td>\n",
       "      <td>230</td>\n",
       "      <td>100</td>\n",
       "      <td>7.0</td>\n",
       "      <td>1.66</td>\n",
       "      <td>0.0</td>\n",
       "      <td>9.96</td>\n",
       "    </tr>\n",
       "    <tr>\n",
       "      <th>9937955</th>\n",
       "      <td>0.63</td>\n",
       "      <td>107</td>\n",
       "      <td>234</td>\n",
       "      <td>5.0</td>\n",
       "      <td>1.58</td>\n",
       "      <td>0.0</td>\n",
       "      <td>7.88</td>\n",
       "    </tr>\n",
       "    <tr>\n",
       "      <th>174651</th>\n",
       "      <td>2.28</td>\n",
       "      <td>166</td>\n",
       "      <td>75</td>\n",
       "      <td>9.5</td>\n",
       "      <td>0.00</td>\n",
       "      <td>0.0</td>\n",
       "      <td>10.80</td>\n",
       "    </tr>\n",
       "    <tr>\n",
       "      <th>759335</th>\n",
       "      <td>0.99</td>\n",
       "      <td>186</td>\n",
       "      <td>234</td>\n",
       "      <td>6.0</td>\n",
       "      <td>1.36</td>\n",
       "      <td>0.0</td>\n",
       "      <td>8.16</td>\n",
       "    </tr>\n",
       "    <tr>\n",
       "      <th>8864496</th>\n",
       "      <td>2.90</td>\n",
       "      <td>43</td>\n",
       "      <td>186</td>\n",
       "      <td>13.5</td>\n",
       "      <td>2.95</td>\n",
       "      <td>0.0</td>\n",
       "      <td>17.75</td>\n",
       "    </tr>\n",
       "  </tbody>\n",
       "</table>\n",
       "</div>"
      ],
      "text/plain": [
       "         trip_distance  PULocationID  DOLocationID  fare_amount  tip_amount  \\\n",
       "5794509           0.57           230           100          7.0        1.66   \n",
       "9937955           0.63           107           234          5.0        1.58   \n",
       "174651            2.28           166            75          9.5        0.00   \n",
       "759335            0.99           186           234          6.0        1.36   \n",
       "8864496           2.90            43           186         13.5        2.95   \n",
       "\n",
       "         tolls_amount  total_amount  \n",
       "5794509           0.0          9.96  \n",
       "9937955           0.0          7.88  \n",
       "174651            0.0         10.80  \n",
       "759335            0.0          8.16  \n",
       "8864496           0.0         17.75  "
      ]
     },
     "execution_count": 215,
     "metadata": {},
     "output_type": "execute_result"
    }
   ],
   "source": [
    "cont_vars = [var for var in num_vars if var not in discrete_vars + time_vars]\n",
    "\n",
    "print(f'Number of continous variables: ', len(cont_vars))\n",
    "\n",
    "df[cont_vars].head()"
   ]
  },
  {
   "cell_type": "code",
   "execution_count": 219,
   "metadata": {
    "scrolled": false
   },
   "outputs": [
    {
     "data": {
      "image/png": "[encoded data removed]",
      "text/plain": [
       "<Figure size 432x288 with 1 Axes>"
      ]
     },
     "metadata": {
      "needs_background": "light"
     },
     "output_type": "display_data"
    },
    {
     "data": {
      "image/png": "[encoded data removed]",
      "text/plain": [
       "<Figure size 432x288 with 1 Axes>"
      ]
     },
     "metadata": {
      "needs_background": "light"
     },
     "output_type": "display_data"
    },
    {
     "data": {
      "image/png": "[encoded data removed]",
      "text/plain": [
       "<Figure size 432x288 with 1 Axes>"
      ]
     },
     "metadata": {
      "needs_background": "light"
     },
     "output_type": "display_data"
    },
    {
     "data": {
      "image/png": "[encoded data removed]",
      "text/plain": [
       "<Figure size 432x288 with 1 Axes>"
      ]
     },
     "metadata": {
      "needs_background": "light"
     },
     "output_type": "display_data"
    },
    {
     "data": {
      "image/png": "[encoded data removed]",
      "text/plain": [
       "<Figure size 432x288 with 1 Axes>"
      ]
     },
     "metadata": {
      "needs_background": "light"
     },
     "output_type": "display_data"
    },
    {
     "data": {
      "image/png": "[encoded data removed]",
      "text/plain": [
       "<Figure size 432x288 with 1 Axes>"
      ]
     },
     "metadata": {
      "needs_background": "light"
     },
     "output_type": "display_data"
    },
    {
     "data": {
      "image/png": "[encoded data removed]",
      "text/plain": [
       "<Figure size 432x288 with 1 Axes>"
      ]
     },
     "metadata": {
      "needs_background": "light"
     },
     "output_type": "display_data"
    }
   ],
   "source": [
    "def analyze_continuous_var(df, var):\n",
    "    \"\"\"\n",
    "    Plots continuous variable against target, tip amount.\n",
    "    Histogram shows skew or normal dist. \n",
    "    \"\"\"\n",
    "    df = df.copy()\n",
    "    \n",
    "    df[var].hist(bins=40)\n",
    "    plt.title(var)\n",
    "    plt.ylabel('Number of trips')\n",
    "    plt.xlabel(var)\n",
    "    plt.show()\n",
    "    \n",
    "for var in cont_vars:\n",
    "    analyze_continuous_var(df, var)"
   ]
  },
  {
   "cell_type": "code",
   "execution_count": 222,
   "metadata": {},
   "outputs": [
    {
     "name": "stderr",
     "output_type": "stream",
     "text": [
      "//anaconda3/lib/python3.7/site-packages/ipykernel_launcher.py:12: RuntimeWarning: invalid value encountered in log\n",
      "  if sys.path[0] == '':\n"
     ]
    },
    {
     "data": {
      "image/png": "[encoded data removed]",
      "text/plain": [
       "<Figure size 432x288 with 1 Axes>"
      ]
     },
     "metadata": {
      "needs_background": "light"
     },
     "output_type": "display_data"
    }
   ],
   "source": [
    "# log transform the cont variables to be more Gaussian\n",
    "def analyze_transformed_continuous_vars(df, var):\n",
    "    \"\"\"\n",
    "    Log transform variables.\n",
    "    Returns a histogram of log variables. \n",
    "    \"\"\"\n",
    "    df = df.copy()\n",
    "    # skip variables with negative values\n",
    "    if 0 in df[var].unique():\n",
    "        pass\n",
    "    else:\n",
    "        df[var] = np.log(df[var])\n",
    "        \n",
    "        df[var].hist(bins=40)\n",
    "        plt.title(var)\n",
    "        plt.ylabel('Number of trips')\n",
    "        plt.xlabel(var)\n",
    "        plt.show()\n",
    "\n",
    "for var in cont_vars:\n",
    "    analyze_transformed_continuous_vars(df, var)"
   ]
  },
  {
   "cell_type": "code",
   "execution_count": null,
   "metadata": {},
   "outputs": [],
   "source": []
  }
 ],
 "metadata": {
  "kernelspec": {
   "display_name": "Python 3",
   "language": "python",
   "name": "python3"
  },
  "language_info": {
   "codemirror_mode": {
    "name": "ipython",
    "version": 3
   },
   "file_extension": ".py",
   "mimetype": "text/x-python",
   "name": "python",
   "nbconvert_exporter": "python",
   "pygments_lexer": "ipython3",
   "version": "3.7.4"
  }
 },
 "nbformat": 4,
 "nbformat_minor": 2
}
