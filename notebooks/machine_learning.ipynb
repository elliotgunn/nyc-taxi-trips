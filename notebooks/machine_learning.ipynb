{
 "cells": [
  {
   "cell_type": "code",
   "execution_count": 18,
   "metadata": {},
   "outputs": [],
   "source": [
    "import pandas as pd\n",
    "import numpy as np\n",
    "\n",
    "import matplotlib.pyplot as plt\n",
    "%matplotlib inline\n",
    "\n",
    "from sklearn.linear_model import Lasso\n",
    "from sklearn.metrics import mean_squared_error\n",
    "from math import sqrt\n",
    "\n",
    "pd.pandas.set_option('display.max_columns', None)"
   ]
  },
  {
   "cell_type": "code",
   "execution_count": 19,
   "metadata": {},
   "outputs": [
    {
     "data": {
      "text/html": [
       "<div>\n",
       "<style scoped>\n",
       "    .dataframe tbody tr th:only-of-type {\n",
       "        vertical-align: middle;\n",
       "    }\n",
       "\n",
       "    .dataframe tbody tr th {\n",
       "        vertical-align: top;\n",
       "    }\n",
       "\n",
       "    .dataframe thead th {\n",
       "        text-align: right;\n",
       "    }\n",
       "</style>\n",
       "<table border=\"1\" class=\"dataframe\">\n",
       "  <thead>\n",
       "    <tr style=\"text-align: right;\">\n",
       "      <th></th>\n",
       "      <th>id</th>\n",
       "      <th>tip_amount</th>\n",
       "      <th>VendorID</th>\n",
       "      <th>passenger_count</th>\n",
       "      <th>trip_distance</th>\n",
       "      <th>RatecodeID_one</th>\n",
       "      <th>RatecodeID_five</th>\n",
       "      <th>RatecodeID_two</th>\n",
       "      <th>RatecodeID_three</th>\n",
       "      <th>RatecodeID_four</th>\n",
       "      <th>store_and_fwd_flag_N</th>\n",
       "      <th>store_and_fwd_flag_Y</th>\n",
       "      <th>PULocationID_OTHER</th>\n",
       "      <th>PULocationID_162</th>\n",
       "      <th>PULocationID_161</th>\n",
       "      <th>PULocationID_236</th>\n",
       "      <th>PULocationID_170</th>\n",
       "      <th>PULocationID_186</th>\n",
       "      <th>PULocationID_230</th>\n",
       "      <th>PULocationID_142</th>\n",
       "      <th>PULocationID_48</th>\n",
       "      <th>PULocationID_234</th>\n",
       "      <th>PULocationID_237</th>\n",
       "      <th>DOLocationID_OTHER</th>\n",
       "      <th>DOLocationID_237</th>\n",
       "      <th>DOLocationID_161</th>\n",
       "      <th>DOLocationID_186</th>\n",
       "      <th>DOLocationID_236</th>\n",
       "      <th>DOLocationID_234</th>\n",
       "      <th>DOLocationID_48</th>\n",
       "      <th>DOLocationID_142</th>\n",
       "      <th>DOLocationID_230</th>\n",
       "      <th>DOLocationID_170</th>\n",
       "      <th>DOLocationID_162</th>\n",
       "      <th>payment_type_one</th>\n",
       "      <th>payment_type_two</th>\n",
       "      <th>payment_type_three</th>\n",
       "      <th>payment_type_four</th>\n",
       "      <th>fare_amount</th>\n",
       "      <th>extra</th>\n",
       "      <th>mta_tax</th>\n",
       "      <th>tolls_amount</th>\n",
       "      <th>improvement_surcharge</th>\n",
       "      <th>total_amount</th>\n",
       "      <th>trip_seconds</th>\n",
       "    </tr>\n",
       "  </thead>\n",
       "  <tbody>\n",
       "    <tr>\n",
       "      <th>0</th>\n",
       "      <td>25324</td>\n",
       "      <td>1.36</td>\n",
       "      <td>1.0</td>\n",
       "      <td>0.166667</td>\n",
       "      <td>0.013209</td>\n",
       "      <td>1.0</td>\n",
       "      <td>0.0</td>\n",
       "      <td>0.0</td>\n",
       "      <td>0.0</td>\n",
       "      <td>0.0</td>\n",
       "      <td>1.0</td>\n",
       "      <td>0.0</td>\n",
       "      <td>1.0</td>\n",
       "      <td>0.0</td>\n",
       "      <td>0.0</td>\n",
       "      <td>0.0</td>\n",
       "      <td>0.0</td>\n",
       "      <td>0.0</td>\n",
       "      <td>0.0</td>\n",
       "      <td>0.0</td>\n",
       "      <td>0.0</td>\n",
       "      <td>0.0</td>\n",
       "      <td>0.0</td>\n",
       "      <td>1.0</td>\n",
       "      <td>0.0</td>\n",
       "      <td>0.0</td>\n",
       "      <td>0.0</td>\n",
       "      <td>0.0</td>\n",
       "      <td>0.0</td>\n",
       "      <td>0.0</td>\n",
       "      <td>0.0</td>\n",
       "      <td>0.0</td>\n",
       "      <td>0.0</td>\n",
       "      <td>0.0</td>\n",
       "      <td>1.0</td>\n",
       "      <td>0.0</td>\n",
       "      <td>0.0</td>\n",
       "      <td>0.0</td>\n",
       "      <td>0.373393</td>\n",
       "      <td>0.111111</td>\n",
       "      <td>1.0</td>\n",
       "      <td>0.0</td>\n",
       "      <td>1.0</td>\n",
       "      <td>0.242886</td>\n",
       "      <td>0.040803</td>\n",
       "    </tr>\n",
       "    <tr>\n",
       "      <th>1</th>\n",
       "      <td>25134</td>\n",
       "      <td>2.58</td>\n",
       "      <td>1.0</td>\n",
       "      <td>0.333333</td>\n",
       "      <td>0.014172</td>\n",
       "      <td>1.0</td>\n",
       "      <td>0.0</td>\n",
       "      <td>0.0</td>\n",
       "      <td>0.0</td>\n",
       "      <td>0.0</td>\n",
       "      <td>1.0</td>\n",
       "      <td>0.0</td>\n",
       "      <td>0.0</td>\n",
       "      <td>1.0</td>\n",
       "      <td>0.0</td>\n",
       "      <td>0.0</td>\n",
       "      <td>0.0</td>\n",
       "      <td>0.0</td>\n",
       "      <td>0.0</td>\n",
       "      <td>0.0</td>\n",
       "      <td>0.0</td>\n",
       "      <td>0.0</td>\n",
       "      <td>0.0</td>\n",
       "      <td>1.0</td>\n",
       "      <td>0.0</td>\n",
       "      <td>0.0</td>\n",
       "      <td>0.0</td>\n",
       "      <td>0.0</td>\n",
       "      <td>0.0</td>\n",
       "      <td>0.0</td>\n",
       "      <td>0.0</td>\n",
       "      <td>0.0</td>\n",
       "      <td>0.0</td>\n",
       "      <td>0.0</td>\n",
       "      <td>1.0</td>\n",
       "      <td>0.0</td>\n",
       "      <td>0.0</td>\n",
       "      <td>0.0</td>\n",
       "      <td>0.405735</td>\n",
       "      <td>0.000000</td>\n",
       "      <td>1.0</td>\n",
       "      <td>0.0</td>\n",
       "      <td>1.0</td>\n",
       "      <td>0.276784</td>\n",
       "      <td>0.046823</td>\n",
       "    </tr>\n",
       "    <tr>\n",
       "      <th>2</th>\n",
       "      <td>27635</td>\n",
       "      <td>3.70</td>\n",
       "      <td>0.0</td>\n",
       "      <td>0.166667</td>\n",
       "      <td>0.111447</td>\n",
       "      <td>1.0</td>\n",
       "      <td>0.0</td>\n",
       "      <td>0.0</td>\n",
       "      <td>0.0</td>\n",
       "      <td>0.0</td>\n",
       "      <td>1.0</td>\n",
       "      <td>0.0</td>\n",
       "      <td>1.0</td>\n",
       "      <td>0.0</td>\n",
       "      <td>0.0</td>\n",
       "      <td>0.0</td>\n",
       "      <td>0.0</td>\n",
       "      <td>0.0</td>\n",
       "      <td>0.0</td>\n",
       "      <td>0.0</td>\n",
       "      <td>0.0</td>\n",
       "      <td>0.0</td>\n",
       "      <td>0.0</td>\n",
       "      <td>1.0</td>\n",
       "      <td>0.0</td>\n",
       "      <td>0.0</td>\n",
       "      <td>0.0</td>\n",
       "      <td>0.0</td>\n",
       "      <td>0.0</td>\n",
       "      <td>0.0</td>\n",
       "      <td>0.0</td>\n",
       "      <td>0.0</td>\n",
       "      <td>0.0</td>\n",
       "      <td>0.0</td>\n",
       "      <td>1.0</td>\n",
       "      <td>0.0</td>\n",
       "      <td>0.0</td>\n",
       "      <td>0.0</td>\n",
       "      <td>0.476668</td>\n",
       "      <td>0.222222</td>\n",
       "      <td>1.0</td>\n",
       "      <td>0.0</td>\n",
       "      <td>1.0</td>\n",
       "      <td>0.355153</td>\n",
       "      <td>0.063545</td>\n",
       "    </tr>\n",
       "    <tr>\n",
       "      <th>3</th>\n",
       "      <td>9501</td>\n",
       "      <td>0.00</td>\n",
       "      <td>0.0</td>\n",
       "      <td>0.166667</td>\n",
       "      <td>0.004128</td>\n",
       "      <td>1.0</td>\n",
       "      <td>0.0</td>\n",
       "      <td>0.0</td>\n",
       "      <td>0.0</td>\n",
       "      <td>0.0</td>\n",
       "      <td>1.0</td>\n",
       "      <td>0.0</td>\n",
       "      <td>0.0</td>\n",
       "      <td>0.0</td>\n",
       "      <td>1.0</td>\n",
       "      <td>0.0</td>\n",
       "      <td>0.0</td>\n",
       "      <td>0.0</td>\n",
       "      <td>0.0</td>\n",
       "      <td>0.0</td>\n",
       "      <td>0.0</td>\n",
       "      <td>0.0</td>\n",
       "      <td>0.0</td>\n",
       "      <td>0.0</td>\n",
       "      <td>1.0</td>\n",
       "      <td>0.0</td>\n",
       "      <td>0.0</td>\n",
       "      <td>0.0</td>\n",
       "      <td>0.0</td>\n",
       "      <td>0.0</td>\n",
       "      <td>0.0</td>\n",
       "      <td>0.0</td>\n",
       "      <td>0.0</td>\n",
       "      <td>0.0</td>\n",
       "      <td>0.0</td>\n",
       "      <td>1.0</td>\n",
       "      <td>0.0</td>\n",
       "      <td>0.0</td>\n",
       "      <td>0.354548</td>\n",
       "      <td>0.000000</td>\n",
       "      <td>1.0</td>\n",
       "      <td>0.0</td>\n",
       "      <td>1.0</td>\n",
       "      <td>0.203477</td>\n",
       "      <td>0.039465</td>\n",
       "    </tr>\n",
       "    <tr>\n",
       "      <th>4</th>\n",
       "      <td>21993</td>\n",
       "      <td>3.80</td>\n",
       "      <td>0.0</td>\n",
       "      <td>0.166667</td>\n",
       "      <td>0.052284</td>\n",
       "      <td>1.0</td>\n",
       "      <td>0.0</td>\n",
       "      <td>0.0</td>\n",
       "      <td>0.0</td>\n",
       "      <td>0.0</td>\n",
       "      <td>1.0</td>\n",
       "      <td>0.0</td>\n",
       "      <td>1.0</td>\n",
       "      <td>0.0</td>\n",
       "      <td>0.0</td>\n",
       "      <td>0.0</td>\n",
       "      <td>0.0</td>\n",
       "      <td>0.0</td>\n",
       "      <td>0.0</td>\n",
       "      <td>0.0</td>\n",
       "      <td>0.0</td>\n",
       "      <td>0.0</td>\n",
       "      <td>0.0</td>\n",
       "      <td>1.0</td>\n",
       "      <td>0.0</td>\n",
       "      <td>0.0</td>\n",
       "      <td>0.0</td>\n",
       "      <td>0.0</td>\n",
       "      <td>0.0</td>\n",
       "      <td>0.0</td>\n",
       "      <td>0.0</td>\n",
       "      <td>0.0</td>\n",
       "      <td>0.0</td>\n",
       "      <td>0.0</td>\n",
       "      <td>1.0</td>\n",
       "      <td>0.0</td>\n",
       "      <td>0.0</td>\n",
       "      <td>0.0</td>\n",
       "      <td>0.428681</td>\n",
       "      <td>0.111111</td>\n",
       "      <td>1.0</td>\n",
       "      <td>0.0</td>\n",
       "      <td>1.0</td>\n",
       "      <td>0.306046</td>\n",
       "      <td>0.046823</td>\n",
       "    </tr>\n",
       "  </tbody>\n",
       "</table>\n",
       "</div>"
      ],
      "text/plain": [
       "      id  tip_amount  VendorID  passenger_count  trip_distance  \\\n",
       "0  25324        1.36       1.0         0.166667       0.013209   \n",
       "1  25134        2.58       1.0         0.333333       0.014172   \n",
       "2  27635        3.70       0.0         0.166667       0.111447   \n",
       "3   9501        0.00       0.0         0.166667       0.004128   \n",
       "4  21993        3.80       0.0         0.166667       0.052284   \n",
       "\n",
       "   RatecodeID_one  RatecodeID_five  RatecodeID_two  RatecodeID_three  \\\n",
       "0             1.0              0.0             0.0               0.0   \n",
       "1             1.0              0.0             0.0               0.0   \n",
       "2             1.0              0.0             0.0               0.0   \n",
       "3             1.0              0.0             0.0               0.0   \n",
       "4             1.0              0.0             0.0               0.0   \n",
       "\n",
       "   RatecodeID_four  store_and_fwd_flag_N  store_and_fwd_flag_Y  \\\n",
       "0              0.0                   1.0                   0.0   \n",
       "1              0.0                   1.0                   0.0   \n",
       "2              0.0                   1.0                   0.0   \n",
       "3              0.0                   1.0                   0.0   \n",
       "4              0.0                   1.0                   0.0   \n",
       "\n",
       "   PULocationID_OTHER  PULocationID_162  PULocationID_161  PULocationID_236  \\\n",
       "0                 1.0               0.0               0.0               0.0   \n",
       "1                 0.0               1.0               0.0               0.0   \n",
       "2                 1.0               0.0               0.0               0.0   \n",
       "3                 0.0               0.0               1.0               0.0   \n",
       "4                 1.0               0.0               0.0               0.0   \n",
       "\n",
       "   PULocationID_170  PULocationID_186  PULocationID_230  PULocationID_142  \\\n",
       "0               0.0               0.0               0.0               0.0   \n",
       "1               0.0               0.0               0.0               0.0   \n",
       "2               0.0               0.0               0.0               0.0   \n",
       "3               0.0               0.0               0.0               0.0   \n",
       "4               0.0               0.0               0.0               0.0   \n",
       "\n",
       "   PULocationID_48  PULocationID_234  PULocationID_237  DOLocationID_OTHER  \\\n",
       "0              0.0               0.0               0.0                 1.0   \n",
       "1              0.0               0.0               0.0                 1.0   \n",
       "2              0.0               0.0               0.0                 1.0   \n",
       "3              0.0               0.0               0.0                 0.0   \n",
       "4              0.0               0.0               0.0                 1.0   \n",
       "\n",
       "   DOLocationID_237  DOLocationID_161  DOLocationID_186  DOLocationID_236  \\\n",
       "0               0.0               0.0               0.0               0.0   \n",
       "1               0.0               0.0               0.0               0.0   \n",
       "2               0.0               0.0               0.0               0.0   \n",
       "3               1.0               0.0               0.0               0.0   \n",
       "4               0.0               0.0               0.0               0.0   \n",
       "\n",
       "   DOLocationID_234  DOLocationID_48  DOLocationID_142  DOLocationID_230  \\\n",
       "0               0.0              0.0               0.0               0.0   \n",
       "1               0.0              0.0               0.0               0.0   \n",
       "2               0.0              0.0               0.0               0.0   \n",
       "3               0.0              0.0               0.0               0.0   \n",
       "4               0.0              0.0               0.0               0.0   \n",
       "\n",
       "   DOLocationID_170  DOLocationID_162  payment_type_one  payment_type_two  \\\n",
       "0               0.0               0.0               1.0               0.0   \n",
       "1               0.0               0.0               1.0               0.0   \n",
       "2               0.0               0.0               1.0               0.0   \n",
       "3               0.0               0.0               0.0               1.0   \n",
       "4               0.0               0.0               1.0               0.0   \n",
       "\n",
       "   payment_type_three  payment_type_four  fare_amount     extra  mta_tax  \\\n",
       "0                 0.0                0.0     0.373393  0.111111      1.0   \n",
       "1                 0.0                0.0     0.405735  0.000000      1.0   \n",
       "2                 0.0                0.0     0.476668  0.222222      1.0   \n",
       "3                 0.0                0.0     0.354548  0.000000      1.0   \n",
       "4                 0.0                0.0     0.428681  0.111111      1.0   \n",
       "\n",
       "   tolls_amount  improvement_surcharge  total_amount  trip_seconds  \n",
       "0           0.0                    1.0      0.242886      0.040803  \n",
       "1           0.0                    1.0      0.276784      0.046823  \n",
       "2           0.0                    1.0      0.355153      0.063545  \n",
       "3           0.0                    1.0      0.203477      0.039465  \n",
       "4           0.0                    1.0      0.306046      0.046823  "
      ]
     },
     "execution_count": 19,
     "metadata": {},
     "output_type": "execute_result"
    }
   ],
   "source": [
    "X_train_scaled = pd.read_csv('./data/X_train_scaled.csv')\n",
    "X_test_scaled = pd.read_csv('./data/X_test_scaled.csv')\n",
    "\n",
    "X_train_scaled.head()"
   ]
  },
  {
   "cell_type": "code",
   "execution_count": 20,
   "metadata": {},
   "outputs": [],
   "source": [
    "y_train = X_train_scaled['tip_amount']\n",
    "y_test = X_test_scaled['tip_amount']"
   ]
  },
  {
   "cell_type": "code",
   "execution_count": 21,
   "metadata": {},
   "outputs": [
    {
     "data": {
      "text/plain": [
       "['VendorID',\n",
       " 'trip_distance',\n",
       " 'RatecodeID_one',\n",
       " 'PULocationID_161',\n",
       " 'DOLocationID_OTHER',\n",
       " 'payment_type_one',\n",
       " 'tolls_amount',\n",
       " 'total_amount']"
      ]
     },
     "execution_count": 21,
     "metadata": {},
     "output_type": "execute_result"
    }
   ],
   "source": [
    "# load selected features\n",
    "selected_features = pd.read_csv('./data/selected_features.csv', header=None)\n",
    "\n",
    "# pull items from series into a list\n",
    "selected_features = [x for x in selected_features[0]]\n",
    "selected_features"
   ]
  },
  {
   "cell_type": "code",
   "execution_count": 22,
   "metadata": {
    "scrolled": true
   },
   "outputs": [],
   "source": [
    "X_train_scaled = X_train_scaled[selected_features]\n",
    "X_test_scaled = X_test_scaled[selected_features]"
   ]
  },
  {
   "cell_type": "markdown",
   "metadata": {},
   "source": [
    "### Regularized linear regression"
   ]
  },
  {
   "cell_type": "code",
   "execution_count": 23,
   "metadata": {},
   "outputs": [
    {
     "data": {
      "text/plain": [
       "Lasso(alpha=0.005, copy_X=True, fit_intercept=True, max_iter=1000,\n",
       "      normalize=False, positive=False, precompute=False, random_state=1,\n",
       "      selection='cyclic', tol=0.0001, warm_start=False)"
      ]
     },
     "execution_count": 23,
     "metadata": {},
     "output_type": "execute_result"
    }
   ],
   "source": [
    "# model fit then feature selection\n",
    "# alpha: penalty, the larger the fewer features selected\n",
    "# sel_: will select features that are non-zero\n",
    "\n",
    "lasso = Lasso(alpha=0.005, random_state=1)\n",
    "lasso.fit(X_train_scaled, y_train)"
   ]
  },
  {
   "cell_type": "code",
   "execution_count": 28,
   "metadata": {},
   "outputs": [
    {
     "name": "stdout",
     "output_type": "stream",
     "text": [
      "Linear train MSE: 5.008971564342426e+82\n",
      "Linear train RMSE: 2.2380731811856434e+41\n"
     ]
    }
   ],
   "source": [
    "# evaluate the model \n",
    "# first: transform both target and features back to original values (previously log transformed)\n",
    "\n",
    "train_pred = lasso.predict(X_train_scaled)\n",
    "\n",
    "print(f'Lasso train MSE: {mean_squared_error(np.exp(y_train), np.exp(train_pred))}')\n",
    "print(f'Lasso train RMSE: {sqrt(mean_squared_error(np.exp(y_train), np.exp(train_pred)))}')"
   ]
  },
  {
   "cell_type": "code",
   "execution_count": 30,
   "metadata": {},
   "outputs": [
    {
     "name": "stdout",
     "output_type": "stream",
     "text": [
      "Lasso test MSE: 1.0509584528052865e+66\n",
      "Lasso test RMSE: 1.0251626470006047e+33\n"
     ]
    }
   ],
   "source": [
    "test_pred = lasso.predict(X_test_scaled)\n",
    "\n",
    "print(f'Lasso test MSE: {mean_squared_error(np.exp(y_test), np.exp(test_pred))}')\n",
    "print(f'Lasso test RMSE: {sqrt(mean_squared_error(np.exp(y_test), np.exp(test_pred)))}')"
   ]
  },
  {
   "cell_type": "code",
   "execution_count": 31,
   "metadata": {},
   "outputs": [
    {
     "name": "stdout",
     "output_type": "stream",
     "text": [
      "Average tip amount: 4.0551999668446745\n"
     ]
    }
   ],
   "source": [
    "print(f'Average tip amount: {np.exp(y_train).median()}')"
   ]
  },
  {
   "cell_type": "code",
   "execution_count": 34,
   "metadata": {},
   "outputs": [
    {
     "data": {
      "image/png": "[encoded data removed]",
      "text/plain": [
       "<Figure size 432x288 with 1 Axes>"
      ]
     },
     "metadata": {
      "needs_background": "light"
     },
     "output_type": "display_data"
    }
   ],
   "source": [
    "# plot predictions \n",
    "plt.scatter(y_test, test_pred)\n",
    "plt.xlabel('True Tip Amount')\n",
    "plt.ylabel('Predicted Tip Amount')\n",
    "plt.title('Evaluation of Lasso Predictions');"
   ]
  },
  {
   "cell_type": "code",
   "execution_count": 38,
   "metadata": {},
   "outputs": [
    {
     "data": {
      "text/plain": [
       "<matplotlib.axes._subplots.AxesSubplot at 0x1a2680dc50>"
      ]
     },
     "execution_count": 38,
     "metadata": {},
     "output_type": "execute_result"
    },
    {
     "data": {
      "image/png": "[encoded data removed]",
      "text/plain": [
       "<Figure size 432x288 with 1 Axes>"
      ]
     },
     "metadata": {
      "needs_background": "light"
     },
     "output_type": "display_data"
    }
   ],
   "source": [
    "# evaluate distribution of errors (should be normally distributed or Gaussian)\n",
    "\n",
    "errors = y_test - test_pred\n",
    "\n",
    "errors.hist(bins=40)"
   ]
  },
  {
   "cell_type": "markdown",
   "metadata": {},
   "source": [
    "### Feature importance"
   ]
  },
  {
   "cell_type": "code",
   "execution_count": 39,
   "metadata": {},
   "outputs": [
    {
     "data": {
      "image/png": "[encoded data removed]",
      "text/plain": [
       "<Figure size 1296x432 with 1 Axes>"
      ]
     },
     "metadata": {
      "needs_background": "light"
     },
     "output_type": "display_data"
    }
   ],
   "source": [
    "importance = pd.Series(np.abs(lasso.coef_.ravel()))\n",
    "importance.index = features\n",
    "importance.sort_values(inplace=True, ascending=False)\n",
    "importance.plot.bar(figsize=(18,6))\n",
    "plt.ylabel('Lasso Coefficients')\n",
    "plt.title('Feature Importance');"
   ]
  }
 ],
 "metadata": {
  "kernelspec": {
   "display_name": "Python 3",
   "language": "python",
   "name": "python3"
  },
  "language_info": {
   "codemirror_mode": {
    "name": "ipython",
    "version": 3
   },
   "file_extension": ".py",
   "mimetype": "text/x-python",
   "name": "python",
   "nbconvert_exporter": "python",
   "pygments_lexer": "ipython3",
   "version": "3.7.4"
  }
 },
 "nbformat": 4,
 "nbformat_minor": 2
}
