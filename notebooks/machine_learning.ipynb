{
 "cells": [
  {
   "cell_type": "code",
   "execution_count": 5,
   "metadata": {},
   "outputs": [],
   "source": [
    "import pandas as pd\n",
    "import numpy as np\n",
    "\n",
    "import matplotlib.pyplot as plt\n",
    "%matplotlib inline\n",
    "\n",
    "from sklearn.linear_model import Lasso\n",
    "from sklearn.metrics import mean_squared_error\n",
    "from math import sqrt\n",
    "\n",
    "pd.pandas.set_option('display.max_columns', None)"
   ]
  },
  {
   "cell_type": "code",
   "execution_count": 6,
   "metadata": {},
   "outputs": [
    {
     "data": {
      "text/html": [
       "<div>\n",
       "<style scoped>\n",
       "    .dataframe tbody tr th:only-of-type {\n",
       "        vertical-align: middle;\n",
       "    }\n",
       "\n",
       "    .dataframe tbody tr th {\n",
       "        vertical-align: top;\n",
       "    }\n",
       "\n",
       "    .dataframe thead th {\n",
       "        text-align: right;\n",
       "    }\n",
       "</style>\n",
       "<table border=\"1\" class=\"dataframe\">\n",
       "  <thead>\n",
       "    <tr style=\"text-align: right;\">\n",
       "      <th></th>\n",
       "      <th>id</th>\n",
       "      <th>tip_amount</th>\n",
       "      <th>VendorID_2</th>\n",
       "      <th>VendorID_1</th>\n",
       "      <th>passenger_count</th>\n",
       "      <th>trip_distance</th>\n",
       "      <th>RatecodeID_one</th>\n",
       "      <th>RatecodeID_two</th>\n",
       "      <th>RatecodeID_five</th>\n",
       "      <th>RatecodeID_three</th>\n",
       "      <th>RatecodeID_four</th>\n",
       "      <th>store_and_fwd_flag_N</th>\n",
       "      <th>store_and_fwd_flag_Y</th>\n",
       "      <th>PULocationID_OTHER</th>\n",
       "      <th>PULocationID_236</th>\n",
       "      <th>PULocationID_186</th>\n",
       "      <th>PULocationID_161</th>\n",
       "      <th>PULocationID_230</th>\n",
       "      <th>PULocationID_237</th>\n",
       "      <th>PULocationID_234</th>\n",
       "      <th>PULocationID_162</th>\n",
       "      <th>PULocationID_48</th>\n",
       "      <th>PULocationID_170</th>\n",
       "      <th>DOLocationID_236</th>\n",
       "      <th>DOLocationID_OTHER</th>\n",
       "      <th>DOLocationID_186</th>\n",
       "      <th>DOLocationID_48</th>\n",
       "      <th>DOLocationID_230</th>\n",
       "      <th>DOLocationID_170</th>\n",
       "      <th>DOLocationID_161</th>\n",
       "      <th>DOLocationID_234</th>\n",
       "      <th>DOLocationID_237</th>\n",
       "      <th>DOLocationID_162</th>\n",
       "      <th>payment_type_one</th>\n",
       "      <th>payment_type_two</th>\n",
       "      <th>payment_type_three</th>\n",
       "      <th>payment_type_four</th>\n",
       "      <th>fare_amount</th>\n",
       "      <th>extra</th>\n",
       "      <th>mta_tax</th>\n",
       "      <th>tolls_amount</th>\n",
       "      <th>improvement_surcharge</th>\n",
       "      <th>total_amount</th>\n",
       "      <th>trip_seconds</th>\n",
       "      <th>pickup_hour</th>\n",
       "      <th>pickup_min</th>\n",
       "      <th>pickup_sec</th>\n",
       "      <th>dropoff_hour</th>\n",
       "      <th>dropoff_min</th>\n",
       "      <th>dropoff_sec</th>\n",
       "      <th>trip_day</th>\n",
       "    </tr>\n",
       "  </thead>\n",
       "  <tbody>\n",
       "    <tr>\n",
       "      <th>0</th>\n",
       "      <td>1</td>\n",
       "      <td>1.96</td>\n",
       "      <td>1.0</td>\n",
       "      <td>0.0</td>\n",
       "      <td>0.2</td>\n",
       "      <td>0.049380</td>\n",
       "      <td>1.0</td>\n",
       "      <td>0.0</td>\n",
       "      <td>0.0</td>\n",
       "      <td>0.0</td>\n",
       "      <td>0.0</td>\n",
       "      <td>1.0</td>\n",
       "      <td>0.0</td>\n",
       "      <td>1.0</td>\n",
       "      <td>0.0</td>\n",
       "      <td>0.0</td>\n",
       "      <td>0.0</td>\n",
       "      <td>0.0</td>\n",
       "      <td>0.0</td>\n",
       "      <td>0.0</td>\n",
       "      <td>0.0</td>\n",
       "      <td>0.0</td>\n",
       "      <td>0.0</td>\n",
       "      <td>1.0</td>\n",
       "      <td>0.0</td>\n",
       "      <td>0.0</td>\n",
       "      <td>0.0</td>\n",
       "      <td>0.0</td>\n",
       "      <td>0.0</td>\n",
       "      <td>0.0</td>\n",
       "      <td>0.0</td>\n",
       "      <td>0.0</td>\n",
       "      <td>0.0</td>\n",
       "      <td>1.0</td>\n",
       "      <td>0.0</td>\n",
       "      <td>0.0</td>\n",
       "      <td>0.0</td>\n",
       "      <td>0.680321</td>\n",
       "      <td>0.000000</td>\n",
       "      <td>1.0</td>\n",
       "      <td>0.0</td>\n",
       "      <td>0.0</td>\n",
       "      <td>0.537155</td>\n",
       "      <td>0.006259</td>\n",
       "      <td>0.521739</td>\n",
       "      <td>0.169492</td>\n",
       "      <td>0.0</td>\n",
       "      <td>0.521739</td>\n",
       "      <td>0.338983</td>\n",
       "      <td>0.0</td>\n",
       "      <td>0.166667</td>\n",
       "    </tr>\n",
       "    <tr>\n",
       "      <th>1</th>\n",
       "      <td>11</td>\n",
       "      <td>1.00</td>\n",
       "      <td>1.0</td>\n",
       "      <td>0.0</td>\n",
       "      <td>0.0</td>\n",
       "      <td>0.072002</td>\n",
       "      <td>1.0</td>\n",
       "      <td>0.0</td>\n",
       "      <td>0.0</td>\n",
       "      <td>0.0</td>\n",
       "      <td>0.0</td>\n",
       "      <td>1.0</td>\n",
       "      <td>0.0</td>\n",
       "      <td>1.0</td>\n",
       "      <td>0.0</td>\n",
       "      <td>0.0</td>\n",
       "      <td>0.0</td>\n",
       "      <td>0.0</td>\n",
       "      <td>0.0</td>\n",
       "      <td>0.0</td>\n",
       "      <td>0.0</td>\n",
       "      <td>0.0</td>\n",
       "      <td>0.0</td>\n",
       "      <td>0.0</td>\n",
       "      <td>1.0</td>\n",
       "      <td>0.0</td>\n",
       "      <td>0.0</td>\n",
       "      <td>0.0</td>\n",
       "      <td>0.0</td>\n",
       "      <td>0.0</td>\n",
       "      <td>0.0</td>\n",
       "      <td>0.0</td>\n",
       "      <td>0.0</td>\n",
       "      <td>1.0</td>\n",
       "      <td>0.0</td>\n",
       "      <td>0.0</td>\n",
       "      <td>0.0</td>\n",
       "      <td>0.700391</td>\n",
       "      <td>0.222222</td>\n",
       "      <td>1.0</td>\n",
       "      <td>0.0</td>\n",
       "      <td>0.0</td>\n",
       "      <td>0.560787</td>\n",
       "      <td>0.006259</td>\n",
       "      <td>0.782609</td>\n",
       "      <td>0.203390</td>\n",
       "      <td>0.0</td>\n",
       "      <td>0.782609</td>\n",
       "      <td>0.372881</td>\n",
       "      <td>0.0</td>\n",
       "      <td>0.166667</td>\n",
       "    </tr>\n",
       "    <tr>\n",
       "      <th>2</th>\n",
       "      <td>13</td>\n",
       "      <td>0.00</td>\n",
       "      <td>0.0</td>\n",
       "      <td>1.0</td>\n",
       "      <td>0.0</td>\n",
       "      <td>0.024325</td>\n",
       "      <td>1.0</td>\n",
       "      <td>0.0</td>\n",
       "      <td>0.0</td>\n",
       "      <td>0.0</td>\n",
       "      <td>0.0</td>\n",
       "      <td>1.0</td>\n",
       "      <td>0.0</td>\n",
       "      <td>1.0</td>\n",
       "      <td>0.0</td>\n",
       "      <td>0.0</td>\n",
       "      <td>0.0</td>\n",
       "      <td>0.0</td>\n",
       "      <td>0.0</td>\n",
       "      <td>0.0</td>\n",
       "      <td>0.0</td>\n",
       "      <td>0.0</td>\n",
       "      <td>0.0</td>\n",
       "      <td>0.0</td>\n",
       "      <td>0.0</td>\n",
       "      <td>1.0</td>\n",
       "      <td>0.0</td>\n",
       "      <td>0.0</td>\n",
       "      <td>0.0</td>\n",
       "      <td>0.0</td>\n",
       "      <td>0.0</td>\n",
       "      <td>0.0</td>\n",
       "      <td>0.0</td>\n",
       "      <td>0.0</td>\n",
       "      <td>1.0</td>\n",
       "      <td>0.0</td>\n",
       "      <td>0.0</td>\n",
       "      <td>0.690859</td>\n",
       "      <td>0.222222</td>\n",
       "      <td>1.0</td>\n",
       "      <td>0.0</td>\n",
       "      <td>0.0</td>\n",
       "      <td>0.537656</td>\n",
       "      <td>0.009736</td>\n",
       "      <td>0.782609</td>\n",
       "      <td>0.474576</td>\n",
       "      <td>0.0</td>\n",
       "      <td>0.782609</td>\n",
       "      <td>0.728814</td>\n",
       "      <td>0.0</td>\n",
       "      <td>0.300000</td>\n",
       "    </tr>\n",
       "    <tr>\n",
       "      <th>3</th>\n",
       "      <td>14</td>\n",
       "      <td>0.00</td>\n",
       "      <td>1.0</td>\n",
       "      <td>0.0</td>\n",
       "      <td>0.0</td>\n",
       "      <td>0.075894</td>\n",
       "      <td>1.0</td>\n",
       "      <td>0.0</td>\n",
       "      <td>0.0</td>\n",
       "      <td>0.0</td>\n",
       "      <td>0.0</td>\n",
       "      <td>1.0</td>\n",
       "      <td>0.0</td>\n",
       "      <td>1.0</td>\n",
       "      <td>0.0</td>\n",
       "      <td>0.0</td>\n",
       "      <td>0.0</td>\n",
       "      <td>0.0</td>\n",
       "      <td>0.0</td>\n",
       "      <td>0.0</td>\n",
       "      <td>0.0</td>\n",
       "      <td>0.0</td>\n",
       "      <td>0.0</td>\n",
       "      <td>0.0</td>\n",
       "      <td>0.0</td>\n",
       "      <td>0.0</td>\n",
       "      <td>1.0</td>\n",
       "      <td>0.0</td>\n",
       "      <td>0.0</td>\n",
       "      <td>0.0</td>\n",
       "      <td>0.0</td>\n",
       "      <td>0.0</td>\n",
       "      <td>0.0</td>\n",
       "      <td>0.0</td>\n",
       "      <td>1.0</td>\n",
       "      <td>0.0</td>\n",
       "      <td>0.0</td>\n",
       "      <td>0.720873</td>\n",
       "      <td>0.000000</td>\n",
       "      <td>1.0</td>\n",
       "      <td>0.0</td>\n",
       "      <td>0.0</td>\n",
       "      <td>0.566045</td>\n",
       "      <td>0.009736</td>\n",
       "      <td>0.478261</td>\n",
       "      <td>0.067797</td>\n",
       "      <td>0.0</td>\n",
       "      <td>0.478261</td>\n",
       "      <td>0.322034</td>\n",
       "      <td>0.0</td>\n",
       "      <td>0.333333</td>\n",
       "    </tr>\n",
       "    <tr>\n",
       "      <th>4</th>\n",
       "      <td>15</td>\n",
       "      <td>2.36</td>\n",
       "      <td>1.0</td>\n",
       "      <td>0.0</td>\n",
       "      <td>0.0</td>\n",
       "      <td>0.051569</td>\n",
       "      <td>1.0</td>\n",
       "      <td>0.0</td>\n",
       "      <td>0.0</td>\n",
       "      <td>0.0</td>\n",
       "      <td>0.0</td>\n",
       "      <td>1.0</td>\n",
       "      <td>0.0</td>\n",
       "      <td>0.0</td>\n",
       "      <td>1.0</td>\n",
       "      <td>0.0</td>\n",
       "      <td>0.0</td>\n",
       "      <td>0.0</td>\n",
       "      <td>0.0</td>\n",
       "      <td>0.0</td>\n",
       "      <td>0.0</td>\n",
       "      <td>0.0</td>\n",
       "      <td>0.0</td>\n",
       "      <td>1.0</td>\n",
       "      <td>0.0</td>\n",
       "      <td>0.0</td>\n",
       "      <td>0.0</td>\n",
       "      <td>0.0</td>\n",
       "      <td>0.0</td>\n",
       "      <td>0.0</td>\n",
       "      <td>0.0</td>\n",
       "      <td>0.0</td>\n",
       "      <td>0.0</td>\n",
       "      <td>1.0</td>\n",
       "      <td>0.0</td>\n",
       "      <td>0.0</td>\n",
       "      <td>0.0</td>\n",
       "      <td>0.690859</td>\n",
       "      <td>0.222222</td>\n",
       "      <td>1.0</td>\n",
       "      <td>0.0</td>\n",
       "      <td>0.0</td>\n",
       "      <td>0.564592</td>\n",
       "      <td>0.007650</td>\n",
       "      <td>0.695652</td>\n",
       "      <td>0.745763</td>\n",
       "      <td>0.0</td>\n",
       "      <td>0.695652</td>\n",
       "      <td>0.949153</td>\n",
       "      <td>0.0</td>\n",
       "      <td>0.633333</td>\n",
       "    </tr>\n",
       "  </tbody>\n",
       "</table>\n",
       "</div>"
      ],
      "text/plain": [
       "   id  tip_amount  VendorID_2  VendorID_1  passenger_count  trip_distance  \\\n",
       "0   1        1.96         1.0         0.0              0.2       0.049380   \n",
       "1  11        1.00         1.0         0.0              0.0       0.072002   \n",
       "2  13        0.00         0.0         1.0              0.0       0.024325   \n",
       "3  14        0.00         1.0         0.0              0.0       0.075894   \n",
       "4  15        2.36         1.0         0.0              0.0       0.051569   \n",
       "\n",
       "   RatecodeID_one  RatecodeID_two  RatecodeID_five  RatecodeID_three  \\\n",
       "0             1.0             0.0              0.0               0.0   \n",
       "1             1.0             0.0              0.0               0.0   \n",
       "2             1.0             0.0              0.0               0.0   \n",
       "3             1.0             0.0              0.0               0.0   \n",
       "4             1.0             0.0              0.0               0.0   \n",
       "\n",
       "   RatecodeID_four  store_and_fwd_flag_N  store_and_fwd_flag_Y  \\\n",
       "0              0.0                   1.0                   0.0   \n",
       "1              0.0                   1.0                   0.0   \n",
       "2              0.0                   1.0                   0.0   \n",
       "3              0.0                   1.0                   0.0   \n",
       "4              0.0                   1.0                   0.0   \n",
       "\n",
       "   PULocationID_OTHER  PULocationID_236  PULocationID_186  PULocationID_161  \\\n",
       "0                 1.0               0.0               0.0               0.0   \n",
       "1                 1.0               0.0               0.0               0.0   \n",
       "2                 1.0               0.0               0.0               0.0   \n",
       "3                 1.0               0.0               0.0               0.0   \n",
       "4                 0.0               1.0               0.0               0.0   \n",
       "\n",
       "   PULocationID_230  PULocationID_237  PULocationID_234  PULocationID_162  \\\n",
       "0               0.0               0.0               0.0               0.0   \n",
       "1               0.0               0.0               0.0               0.0   \n",
       "2               0.0               0.0               0.0               0.0   \n",
       "3               0.0               0.0               0.0               0.0   \n",
       "4               0.0               0.0               0.0               0.0   \n",
       "\n",
       "   PULocationID_48  PULocationID_170  DOLocationID_236  DOLocationID_OTHER  \\\n",
       "0              0.0               0.0               1.0                 0.0   \n",
       "1              0.0               0.0               0.0                 1.0   \n",
       "2              0.0               0.0               0.0                 0.0   \n",
       "3              0.0               0.0               0.0                 0.0   \n",
       "4              0.0               0.0               1.0                 0.0   \n",
       "\n",
       "   DOLocationID_186  DOLocationID_48  DOLocationID_230  DOLocationID_170  \\\n",
       "0               0.0              0.0               0.0               0.0   \n",
       "1               0.0              0.0               0.0               0.0   \n",
       "2               1.0              0.0               0.0               0.0   \n",
       "3               0.0              1.0               0.0               0.0   \n",
       "4               0.0              0.0               0.0               0.0   \n",
       "\n",
       "   DOLocationID_161  DOLocationID_234  DOLocationID_237  DOLocationID_162  \\\n",
       "0               0.0               0.0               0.0               0.0   \n",
       "1               0.0               0.0               0.0               0.0   \n",
       "2               0.0               0.0               0.0               0.0   \n",
       "3               0.0               0.0               0.0               0.0   \n",
       "4               0.0               0.0               0.0               0.0   \n",
       "\n",
       "   payment_type_one  payment_type_two  payment_type_three  payment_type_four  \\\n",
       "0               1.0               0.0                 0.0                0.0   \n",
       "1               1.0               0.0                 0.0                0.0   \n",
       "2               0.0               1.0                 0.0                0.0   \n",
       "3               0.0               1.0                 0.0                0.0   \n",
       "4               1.0               0.0                 0.0                0.0   \n",
       "\n",
       "   fare_amount     extra  mta_tax  tolls_amount  improvement_surcharge  \\\n",
       "0     0.680321  0.000000      1.0           0.0                    0.0   \n",
       "1     0.700391  0.222222      1.0           0.0                    0.0   \n",
       "2     0.690859  0.222222      1.0           0.0                    0.0   \n",
       "3     0.720873  0.000000      1.0           0.0                    0.0   \n",
       "4     0.690859  0.222222      1.0           0.0                    0.0   \n",
       "\n",
       "   total_amount  trip_seconds  pickup_hour  pickup_min  pickup_sec  \\\n",
       "0      0.537155      0.006259     0.521739    0.169492         0.0   \n",
       "1      0.560787      0.006259     0.782609    0.203390         0.0   \n",
       "2      0.537656      0.009736     0.782609    0.474576         0.0   \n",
       "3      0.566045      0.009736     0.478261    0.067797         0.0   \n",
       "4      0.564592      0.007650     0.695652    0.745763         0.0   \n",
       "\n",
       "   dropoff_hour  dropoff_min  dropoff_sec  trip_day  \n",
       "0      0.521739     0.338983          0.0  0.166667  \n",
       "1      0.782609     0.372881          0.0  0.166667  \n",
       "2      0.782609     0.728814          0.0  0.300000  \n",
       "3      0.478261     0.322034          0.0  0.333333  \n",
       "4      0.695652     0.949153          0.0  0.633333  "
      ]
     },
     "execution_count": 6,
     "metadata": {},
     "output_type": "execute_result"
    }
   ],
   "source": [
    "X_train_scaled = pd.read_csv('../data/train_scaled.csv')\n",
    "X_val_scaled = pd.read_csv('../data/val_scaled.csv')\n",
    "\n",
    "X_train_scaled.head()"
   ]
  },
  {
   "cell_type": "code",
   "execution_count": 7,
   "metadata": {},
   "outputs": [],
   "source": [
    "y_train = X_train_scaled['tip_amount']\n",
    "y_val = X_val_scaled['tip_amount']"
   ]
  },
  {
   "cell_type": "code",
   "execution_count": 9,
   "metadata": {},
   "outputs": [
    {
     "data": {
      "text/plain": [
       "['trip_distance',\n",
       " 'RatecodeID_one',\n",
       " 'DOLocationID_OTHER',\n",
       " 'payment_type_one',\n",
       " 'tolls_amount',\n",
       " 'total_amount',\n",
       " 'pickup_hour',\n",
       " 'trip_day']"
      ]
     },
     "execution_count": 9,
     "metadata": {},
     "output_type": "execute_result"
    }
   ],
   "source": [
    "# load selected features\n",
    "selected_features = pd.read_csv('../data/selected_features.csv', header=None)\n",
    "\n",
    "# pull items from series into a list\n",
    "selected_features = [x for x in selected_features[0]]\n",
    "selected_features"
   ]
  },
  {
   "cell_type": "code",
   "execution_count": 11,
   "metadata": {
    "scrolled": true
   },
   "outputs": [],
   "source": [
    "X_train_scaled = X_train_scaled[selected_features]\n",
    "X_val_scaled = X_val_scaled[selected_features]"
   ]
  },
  {
   "cell_type": "markdown",
   "metadata": {},
   "source": [
    "### Regularized linear regression"
   ]
  },
  {
   "cell_type": "code",
   "execution_count": 12,
   "metadata": {},
   "outputs": [
    {
     "data": {
      "text/plain": [
       "Lasso(alpha=0.005, copy_X=True, fit_intercept=True, max_iter=1000,\n",
       "      normalize=False, positive=False, precompute=False, random_state=1,\n",
       "      selection='cyclic', tol=0.0001, warm_start=False)"
      ]
     },
     "execution_count": 12,
     "metadata": {},
     "output_type": "execute_result"
    }
   ],
   "source": [
    "# model fit then feature selection\n",
    "# alpha: penalty, the larger the fewer features selected\n",
    "# sel_: will select features that are non-zero\n",
    "\n",
    "lasso = Lasso(alpha=0.005, random_state=1)\n",
    "lasso.fit(X_train_scaled, y_train)"
   ]
  },
  {
   "cell_type": "code",
   "execution_count": 13,
   "metadata": {},
   "outputs": [
    {
     "name": "stdout",
     "output_type": "stream",
     "text": [
      "Lasso train MSE: 1.306079025298135e+83\n",
      "Lasso train RMSE: 3.613971534611383e+41\n"
     ]
    }
   ],
   "source": [
    "# evaluate the model \n",
    "# first: transform both target and features back to original values (previously log transformed)\n",
    "\n",
    "train_pred = lasso.predict(X_train_scaled)\n",
    "\n",
    "print(f'Lasso train MSE: {mean_squared_error(np.exp(y_train), np.exp(train_pred))}')\n",
    "print(f'Lasso train RMSE: {sqrt(mean_squared_error(np.exp(y_train), np.exp(train_pred)))}')"
   ]
  },
  {
   "cell_type": "code",
   "execution_count": 16,
   "metadata": {},
   "outputs": [
    {
     "name": "stdout",
     "output_type": "stream",
     "text": [
      "Lasso test MSE: 5.462951123236034e+58\n",
      "Lasso test RMSE: 2.3372956858805936e+29\n"
     ]
    }
   ],
   "source": [
    "val_pred = lasso.predict(X_val_scaled)\n",
    "\n",
    "print(f'Lasso test MSE: {mean_squared_error(np.exp(y_val), np.exp(val_pred))}')\n",
    "print(f'Lasso test RMSE: {sqrt(mean_squared_error(np.exp(y_val), np.exp(val_pred)))}')"
   ]
  },
  {
   "cell_type": "code",
   "execution_count": 17,
   "metadata": {},
   "outputs": [
    {
     "name": "stdout",
     "output_type": "stream",
     "text": [
      "Average tip amount: 4.263114515168817\n"
     ]
    }
   ],
   "source": [
    "print(f'Average tip amount: {np.exp(y_train).median()}')"
   ]
  },
  {
   "cell_type": "code",
   "execution_count": 18,
   "metadata": {},
   "outputs": [
    {
     "data": {
      "image/png": "[encoded data removed]",
      "text/plain": [
       "<Figure size 432x288 with 1 Axes>"
      ]
     },
     "metadata": {
      "needs_background": "light"
     },
     "output_type": "display_data"
    }
   ],
   "source": [
    "# plot predictions \n",
    "plt.scatter(y_val, val_pred)\n",
    "plt.xlabel('True Tip Amount')\n",
    "plt.ylabel('Predicted Tip Amount')\n",
    "plt.title('Evaluation of Lasso Predictions');"
   ]
  },
  {
   "cell_type": "code",
   "execution_count": 20,
   "metadata": {},
   "outputs": [
    {
     "data": {
      "text/plain": [
       "<matplotlib.axes._subplots.AxesSubplot at 0x1a223939d0>"
      ]
     },
     "execution_count": 20,
     "metadata": {},
     "output_type": "execute_result"
    },
    {
     "data": {
      "image/png": "[encoded data removed]",
      "text/plain": [
       "<Figure size 432x288 with 1 Axes>"
      ]
     },
     "metadata": {
      "needs_background": "light"
     },
     "output_type": "display_data"
    }
   ],
   "source": [
    "# evaluate distribution of errors (should be normally distributed or Gaussian)\n",
    "\n",
    "errors = y_val - val_pred\n",
    "\n",
    "errors.hist(bins=100)"
   ]
  },
  {
   "cell_type": "markdown",
   "metadata": {},
   "source": [
    "### Feature importance"
   ]
  },
  {
   "cell_type": "code",
   "execution_count": 24,
   "metadata": {},
   "outputs": [
    {
     "data": {
      "image/png": "[encoded data removed]",
      "text/plain": [
       "<Figure size 1296x432 with 1 Axes>"
      ]
     },
     "metadata": {
      "needs_background": "light"
     },
     "output_type": "display_data"
    }
   ],
   "source": [
    "importance = pd.Series(np.abs(lasso.coef_.ravel()))\n",
    "importance.index = selected_features\n",
    "importance.sort_values(inplace=True, ascending=False)\n",
    "importance.plot.bar(figsize=(18,6))\n",
    "plt.ylabel('Lasso Coefficients')\n",
    "plt.title('Feature Importance');"
   ]
  }
 ],
 "metadata": {
  "kernelspec": {
   "display_name": "Python 3",
   "language": "python",
   "name": "python3"
  },
  "language_info": {
   "codemirror_mode": {
    "name": "ipython",
    "version": 3
   },
   "file_extension": ".py",
   "mimetype": "text/x-python",
   "name": "python",
   "nbconvert_exporter": "python",
   "pygments_lexer": "ipython3",
   "version": "3.7.4"
  }
 },
 "nbformat": 4,
 "nbformat_minor": 2
}
